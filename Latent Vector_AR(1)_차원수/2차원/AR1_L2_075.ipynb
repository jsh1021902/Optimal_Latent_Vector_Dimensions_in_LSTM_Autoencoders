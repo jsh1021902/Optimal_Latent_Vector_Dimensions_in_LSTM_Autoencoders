{
 "cells": [
  {
   "cell_type": "code",
   "execution_count": 1,
   "metadata": {},
   "outputs": [],
   "source": [
    "import numpy as np\n",
    "import torch\n",
    "from torch import nn\n",
    "import torch.optim as optim\n",
    "from torch.utils.data import TensorDataset\n",
    "from torch.utils.data import DataLoader\n",
    "import matplotlib.pyplot as plt\n",
    "from sklearn.metrics import mean_squared_error\n",
    "from pytorchtools import EarlyStopping\n",
    "import math\n",
    "from tqdm import tqdm\n",
    "import statsmodels.api as sm\n",
    "import seaborn as sns"
   ]
  },
  {
   "cell_type": "markdown",
   "metadata": {},
   "source": [
    "#### Numpy & Python Version 확인"
   ]
  },
  {
   "cell_type": "code",
   "execution_count": 2,
   "metadata": {},
   "outputs": [
    {
     "name": "stdout",
     "output_type": "stream",
     "text": [
      "NumPy 버전: 1.26.4\n",
      "Python 버전: 3.11.9\n"
     ]
    }
   ],
   "source": [
    "import numpy as np\n",
    "import platform\n",
    "\n",
    "# NumPy 버전 확인\n",
    "numpy_version = np.__version__\n",
    "\n",
    "# Python 버전 확인\n",
    "python_version = platform.python_version()\n",
    "\n",
    "print(f\"NumPy 버전: {numpy_version}\")\n",
    "print(f\"Python 버전: {python_version}\")"
   ]
  },
  {
   "cell_type": "markdown",
   "metadata": {},
   "source": [
    "#### CUDA 사용 및 EarlyStopping 설정"
   ]
  },
  {
   "cell_type": "code",
   "execution_count": 3,
   "metadata": {},
   "outputs": [
    {
     "name": "stdout",
     "output_type": "stream",
     "text": [
      "cpu\n"
     ]
    }
   ],
   "source": [
    "device = torch.device('cuda:0') if torch.cuda.is_available() else torch.device('cpu')\n",
    "print(device)\n",
    "early_stopping = EarlyStopping(patience = 5, verbose = True)"
   ]
  },
  {
   "cell_type": "markdown",
   "metadata": {},
   "source": [
    "#### 모델 저장"
   ]
  },
  {
   "cell_type": "code",
   "execution_count": 4,
   "metadata": {},
   "outputs": [],
   "source": [
    "def saveModel():\n",
    "    torch.save(model.state_dict(), 'ARL1_L2_075.pt') # 모델의 학습된 매개변수 파일에 저장"
   ]
  },
  {
   "cell_type": "markdown",
   "metadata": {},
   "source": [
    "#### 하이퍼 파라미터 설정"
   ]
  },
  {
   "cell_type": "code",
   "execution_count": 5,
   "metadata": {},
   "outputs": [],
   "source": [
    "# 하이퍼파라미터 설정\n",
    "length = 12             # 윈도우 사이즈 (생성할 시계열 데이터의 길이)\n",
    "trainrun = 2000         # 생성할 학습 데이터 시퀀스의 수 \n",
    "validrun = 1000         # 생성할 검증 데이터 시퀀스의 수 \n",
    "\n",
    "# 시계열 데이터 생성을 위한 매개변수\n",
    "# 자기상관계수 (phi값을 0.75로 생성)\n",
    "phi1 = np.array([0.75])\n",
    "\n",
    "# 공정의 수준 변화율 (delta)\n",
    "de1 = 0\n",
    "\n",
    "# 공정의 분산 변화율 (gamma)\n",
    "ga = 1"
   ]
  },
  {
   "cell_type": "markdown",
   "metadata": {},
   "source": [
    "#### 시계열 데이터 생성"
   ]
  },
  {
   "cell_type": "code",
   "execution_count": 6,
   "metadata": {},
   "outputs": [],
   "source": [
    "np.random.seed(1)\n",
    "\n",
    "# AR(1) 시계열 데이터 생성 함수\n",
    "def ar(ar1, delta, gamma, length, run):\n",
    "    # 초기 설정\n",
    "    y = np.zeros(shape=(run, length))                           # 생성될 시계열 데이터를 저장할 빈 배열을 초기화. 배열의 크기는 (생성할 데이터 시퀀스의 수, 각 시퀀스의 길이) \n",
    "    sigma = math.sqrt(1 / (1 - pow(ar1, 2)))                    # AR(1)모델의 표준 편차\n",
    "    \n",
    "    # 데이터 시퀀스 생성\n",
    "    for j in range(0, run):                                     # 각 run 마다 랜덤 노이즈(e)를 정규분포에서 추출하여 시계열의 기본 노이즈 생성 (과적합 방지 차원)\n",
    "        e = np.random.normal(loc=0, scale=1, size=length)       \n",
    "        x = np.zeros(length)\n",
    "        \n",
    "        x[0] = e[0]                                             # x 배열 초기화하고, 첫 번째 시점의 값은 첫 번째 노이즈 값으로 설정 (시계열의 시작점에서 발생할 수 있는 임의성 반영 및 자기상관 구조 구현)\n",
    "        \n",
    "        for t in range(1, length):\n",
    "            x[t] = ar1 * x[t - 1] + e[t]                        # 관리상태 시계열 데이터 생성\n",
    "                               \n",
    "        # 최종 데이터 반환 (각 run에 대해 생성된 시계열 데이터를 저장)  \n",
    "        y[j] = x\n",
    "\n",
    "    return y\n",
    "\n",
    "\n",
    "# 다양한 매개변수 조합에 대한 시계열 데이터 세트 생성\n",
    "def totaldat(run,length):\n",
    "    # 빈 데이터 배열 초기화\n",
    "    y = np.zeros(shape=(len(phi1), run, length))\n",
    "    # 매개변수 조합별 데이터 생성\n",
    "    for i, phi in enumerate(phi1):\n",
    "        y[i]= ar(phi, de1, ga, length, run)\n",
    "\n",
    "    return y.reshape(run * len(phi1), length)                   # 생성된 데이터를 적절한 형태로 재배열\n"
   ]
  },
  {
   "cell_type": "code",
   "execution_count": 7,
   "metadata": {},
   "outputs": [],
   "source": [
    "# 훈련용 시계열 데이터\n",
    "# 데이터 생성 및 변형\n",
    "train_x = totaldat(trainrun,length)                             # 훈련용 시계열 데이터 생성\n",
    "train_x = train_x.reshape(trainrun*len(phi1),length)            \n",
    "\n",
    "# 검증용 시계열 데이터\n",
    "# 데이터 생성 및 변형\n",
    "valid_x = totaldat(run = validrun, length = length)\n",
    "valid_x = valid_x.reshape(validrun*len(phi1),length)\n",
    "\n",
    "# PyTorch 텐서로 변환 및 장치 할당\n",
    "device = torch.device(\"cuda\" if torch.cuda.is_available() else \"cpu\")\n",
    "train_x = torch.FloatTensor(train_x).to(device)\n",
    "valid_x = torch.FloatTensor(valid_x).to(device)\n",
    "\n",
    "# DataLoader 설정\n",
    "trainloader = DataLoader(train_x, shuffle=True)                 # 데이터셋에서 미니배치 자동으로 생성 후 모델 학습 및 평가 시 배치 처리를 용이하게 함 (훈련에서는 데이터를 섞어 학습 과정에서의 일반화 능력 향상)\n",
    "validloader = DataLoader(valid_x, shuffle=False)                # 학습 및 검증에서는 데이터 순서 유지"
   ]
  },
  {
   "cell_type": "code",
   "execution_count": 8,
   "metadata": {},
   "outputs": [
    {
     "name": "stdout",
     "output_type": "stream",
     "text": [
      "torch.Size([1, 12])\n"
     ]
    }
   ],
   "source": [
    "for data in trainloader:\n",
    "    print(data.shape)\n",
    "    break"
   ]
  },
  {
   "cell_type": "code",
   "execution_count": 9,
   "metadata": {},
   "outputs": [
    {
     "data": {
      "text/plain": [
       "2000"
      ]
     },
     "execution_count": 9,
     "metadata": {},
     "output_type": "execute_result"
    }
   ],
   "source": [
    "len(trainloader)"
   ]
  },
  {
   "cell_type": "code",
   "execution_count": 10,
   "metadata": {},
   "outputs": [
    {
     "data": {
      "text/plain": [
       "1000"
      ]
     },
     "execution_count": 10,
     "metadata": {},
     "output_type": "execute_result"
    }
   ],
   "source": [
    "len(validloader)"
   ]
  },
  {
   "cell_type": "code",
   "execution_count": 11,
   "metadata": {},
   "outputs": [
    {
     "data": {
      "text/plain": [
       "12"
      ]
     },
     "execution_count": 11,
     "metadata": {},
     "output_type": "execute_result"
    }
   ],
   "source": [
    "train_x.shape[1]"
   ]
  },
  {
   "cell_type": "markdown",
   "metadata": {},
   "source": [
    "#### LSTM Autoencoder 구조"
   ]
  },
  {
   "cell_type": "code",
   "execution_count": 12,
   "metadata": {},
   "outputs": [],
   "source": [
    "import torch\n",
    "import torch.nn as nn\n",
    "from torch.utils.data import DataLoader, TensorDataset\n",
    "\n",
    "# Encoder 클래스 정의\n",
    "class Encoder(nn.Module):\n",
    "    def __init__(self, seq_length, latent_dim, input_dim):\n",
    "        super(Encoder, self).__init__()\n",
    "        self.lstm1 = nn.LSTM(input_size=input_dim, hidden_size=128, num_layers=1, batch_first=True)\n",
    "        self.lstm2 = nn.LSTM(input_size=128, hidden_size=latent_dim, num_layers=1, batch_first=True)\n",
    "        self.seq_length = seq_length\n",
    "\n",
    "    def forward(self, x):\n",
    "        x, _ = self.lstm1(x)\n",
    "        z, _ = self.lstm2(x)\n",
    "        z_rep = z.unsqueeze(1).repeat(1, self.seq_length, 1)  # (batch_size, seq_length, latent_dim)\n",
    "        return z, z_rep\n",
    "\n",
    "# Decoder 클래스 정의\n",
    "class Decoder(nn.Module):\n",
    "    def __init__(self, input_dim, latent_dim):\n",
    "        super(Decoder, self).__init__()\n",
    "        self.lstm1 = nn.LSTM(input_size=latent_dim, hidden_size=128, num_layers=1, batch_first=True)\n",
    "        self.lstm2 = nn.LSTM(input_size=128, hidden_size=128, num_layers=1, batch_first=True)\n",
    "        self.time_distributed = nn.Linear(128, input_dim)\n",
    "\n",
    "    def forward(self, x):\n",
    "        x, _ = self.lstm1(x)\n",
    "        x, _ = self.lstm2(x)\n",
    "        x = self.time_distributed(x)\n",
    "        return x\n",
    "\n",
    "# 전체 LSTM 오토인코더 모델 정의\n",
    "class LstmAE(nn.Module):\n",
    "    def __init__(self, seq_length, input_dim, latent_dim):\n",
    "        super(LstmAE, self).__init__()\n",
    "        self.encoder = Encoder(seq_length, latent_dim, input_dim)\n",
    "        self.decoder = Decoder(input_dim, latent_dim)\n",
    "\n",
    "    def forward(self, x):\n",
    "        z, z_rep = self.encoder(x)\n",
    "        decoded = self.decoder(z_rep)\n",
    "        return decoded\n",
    "\n",
    "# 모델 인스턴스 생성 및 설정\n",
    "seq_length = 12  # 시퀀스 길이\n",
    "input_dim = 12   # 입력 차원\n",
    "latent_dim = 2   # 잠재 차원\n",
    "\n",
    "# 모델 인스턴스 생성 및 설정\n",
    "model = LstmAE(seq_length=seq_length, input_dim=input_dim, latent_dim=latent_dim)\n",
    "model = model.to(device)"
   ]
  },
  {
   "cell_type": "code",
   "execution_count": 13,
   "metadata": {},
   "outputs": [
    {
     "name": "stderr",
     "output_type": "stream",
     "text": [
      "/opt/homebrew/anaconda3/envs/myproject3119/lib/python3.11/site-packages/torch/nn/modules/loss.py:535: UserWarning: Using a target size (torch.Size([1, 12])) that is different to the input size (torch.Size([1, 12, 12])). This will likely lead to incorrect results due to broadcasting. Please ensure they have the same size.\n",
      "  return F.mse_loss(input, target, reduction=self.reduction)\n"
     ]
    },
    {
     "name": "stdout",
     "output_type": "stream",
     "text": [
      "Epoch 1, Train Loss: 2.0245, Validation Loss: 2.0012\n",
      "Validation loss decreased (inf --> 2.001187).  Saving model ...\n",
      "Epoch 2, Train Loss: 2.0239, Validation Loss: 2.0006\n",
      "Validation loss decreased (2.001187 --> 2.000571).  Saving model ...\n",
      "Epoch 3, Train Loss: 2.0232, Validation Loss: 1.9998\n",
      "Validation loss decreased (2.000571 --> 1.999805).  Saving model ...\n",
      "Epoch 4, Train Loss: 2.0223, Validation Loss: 1.9989\n",
      "Validation loss decreased (1.999805 --> 1.998864).  Saving model ...\n",
      "Epoch 5, Train Loss: 2.0212, Validation Loss: 1.9977\n",
      "Validation loss decreased (1.998864 --> 1.997723).  Saving model ...\n",
      "Epoch 6, Train Loss: 2.0199, Validation Loss: 1.9963\n",
      "Validation loss decreased (1.997723 --> 1.996327).  Saving model ...\n",
      "Epoch 7, Train Loss: 2.0183, Validation Loss: 1.9946\n",
      "Validation loss decreased (1.996327 --> 1.994629).  Saving model ...\n",
      "Epoch 8, Train Loss: 2.0163, Validation Loss: 1.9925\n",
      "Validation loss decreased (1.994629 --> 1.992536).  Saving model ...\n",
      "Epoch 9, Train Loss: 2.0139, Validation Loss: 1.9899\n",
      "Validation loss decreased (1.992536 --> 1.989931).  Saving model ...\n",
      "Epoch 10, Train Loss: 2.0109, Validation Loss: 1.9866\n",
      "Validation loss decreased (1.989931 --> 1.986614).  Saving model ...\n",
      "Epoch 11, Train Loss: 2.0069, Validation Loss: 1.9823\n",
      "Validation loss decreased (1.986614 --> 1.982310).  Saving model ...\n",
      "Epoch 12, Train Loss: 2.0019, Validation Loss: 1.9766\n",
      "Validation loss decreased (1.982310 --> 1.976646).  Saving model ...\n",
      "Epoch 13, Train Loss: 1.9950, Validation Loss: 1.9690\n",
      "Validation loss decreased (1.976646 --> 1.968982).  Saving model ...\n",
      "Epoch 14, Train Loss: 1.9859, Validation Loss: 1.9587\n",
      "Validation loss decreased (1.968982 --> 1.958653).  Saving model ...\n",
      "Epoch 15, Train Loss: 1.9733, Validation Loss: 1.9443\n",
      "Validation loss decreased (1.958653 --> 1.944290).  Saving model ...\n",
      "Epoch 16, Train Loss: 1.9557, Validation Loss: 1.9241\n",
      "Validation loss decreased (1.944290 --> 1.924080).  Saving model ...\n",
      "Epoch 17, Train Loss: 1.9309, Validation Loss: 1.8956\n",
      "Validation loss decreased (1.924080 --> 1.895605).  Saving model ...\n",
      "Epoch 18, Train Loss: 1.8966, Validation Loss: 1.8569\n",
      "Validation loss decreased (1.895605 --> 1.856917).  Saving model ...\n",
      "Epoch 19, Train Loss: 1.8504, Validation Loss: 1.8057\n",
      "Validation loss decreased (1.856917 --> 1.805714).  Saving model ...\n",
      "Epoch 20, Train Loss: 1.7926, Validation Loss: 1.7458\n",
      "Validation loss decreased (1.805714 --> 1.745834).  Saving model ...\n",
      "Epoch 21, Train Loss: 1.7285, Validation Loss: 1.6839\n",
      "Validation loss decreased (1.745834 --> 1.683869).  Saving model ...\n",
      "Epoch 22, Train Loss: 1.6690, Validation Loss: 1.6321\n",
      "Validation loss decreased (1.683869 --> 1.632080).  Saving model ...\n",
      "Epoch 23, Train Loss: 1.6215, Validation Loss: 1.5941\n",
      "Validation loss decreased (1.632080 --> 1.594132).  Saving model ...\n",
      "Epoch 24, Train Loss: 1.5883, Validation Loss: 1.5693\n",
      "Validation loss decreased (1.594132 --> 1.569299).  Saving model ...\n",
      "Epoch 25, Train Loss: 1.5667, Validation Loss: 1.5536\n",
      "Validation loss decreased (1.569299 --> 1.553612).  Saving model ...\n",
      "Epoch 26, Train Loss: 1.5526, Validation Loss: 1.5433\n",
      "Validation loss decreased (1.553612 --> 1.543277).  Saving model ...\n",
      "Epoch 27, Train Loss: 1.5427, Validation Loss: 1.5356\n",
      "Validation loss decreased (1.543277 --> 1.535563).  Saving model ...\n",
      "Epoch 28, Train Loss: 1.5350, Validation Loss: 1.5293\n",
      "Validation loss decreased (1.535563 --> 1.529275).  Saving model ...\n",
      "Epoch 29, Train Loss: 1.5284, Validation Loss: 1.5238\n",
      "Validation loss decreased (1.529275 --> 1.523760).  Saving model ...\n",
      "Epoch 30, Train Loss: 1.5227, Validation Loss: 1.5188\n",
      "Validation loss decreased (1.523760 --> 1.518769).  Saving model ...\n",
      "Epoch 31, Train Loss: 1.5173, Validation Loss: 1.5140\n",
      "Validation loss decreased (1.518769 --> 1.513973).  Saving model ...\n",
      "Epoch 32, Train Loss: 1.5123, Validation Loss: 1.5094\n",
      "Validation loss decreased (1.513973 --> 1.509379).  Saving model ...\n",
      "Epoch 33, Train Loss: 1.5074, Validation Loss: 1.5049\n",
      "Validation loss decreased (1.509379 --> 1.504882).  Saving model ...\n",
      "Epoch 34, Train Loss: 1.5026, Validation Loss: 1.5005\n",
      "Validation loss decreased (1.504882 --> 1.500528).  Saving model ...\n",
      "Epoch 35, Train Loss: 1.4980, Validation Loss: 1.4963\n",
      "Validation loss decreased (1.500528 --> 1.496285).  Saving model ...\n",
      "Epoch 36, Train Loss: 1.4935, Validation Loss: 1.4921\n",
      "Validation loss decreased (1.496285 --> 1.492111).  Saving model ...\n",
      "Epoch 37, Train Loss: 1.4891, Validation Loss: 1.4880\n",
      "Validation loss decreased (1.492111 --> 1.487980).  Saving model ...\n",
      "Epoch 38, Train Loss: 1.4847, Validation Loss: 1.4839\n",
      "Validation loss decreased (1.487980 --> 1.483906).  Saving model ...\n",
      "Epoch 39, Train Loss: 1.4804, Validation Loss: 1.4799\n",
      "Validation loss decreased (1.483906 --> 1.479890).  Saving model ...\n",
      "Epoch 40, Train Loss: 1.4761, Validation Loss: 1.4759\n",
      "Validation loss decreased (1.479890 --> 1.475924).  Saving model ...\n",
      "Epoch 41, Train Loss: 1.4719, Validation Loss: 1.4720\n",
      "Validation loss decreased (1.475924 --> 1.471978).  Saving model ...\n",
      "Epoch 42, Train Loss: 1.4677, Validation Loss: 1.4681\n",
      "Validation loss decreased (1.471978 --> 1.468058).  Saving model ...\n",
      "Epoch 43, Train Loss: 1.4636, Validation Loss: 1.4641\n",
      "Validation loss decreased (1.468058 --> 1.464128).  Saving model ...\n",
      "Epoch 44, Train Loss: 1.4594, Validation Loss: 1.4602\n",
      "Validation loss decreased (1.464128 --> 1.460236).  Saving model ...\n",
      "Epoch 45, Train Loss: 1.4553, Validation Loss: 1.4564\n",
      "Validation loss decreased (1.460236 --> 1.456373).  Saving model ...\n",
      "Epoch 46, Train Loss: 1.4512, Validation Loss: 1.4525\n",
      "Validation loss decreased (1.456373 --> 1.452542).  Saving model ...\n",
      "Epoch 47, Train Loss: 1.4471, Validation Loss: 1.4487\n",
      "Validation loss decreased (1.452542 --> 1.448691).  Saving model ...\n",
      "Epoch 48, Train Loss: 1.4431, Validation Loss: 1.4449\n",
      "Validation loss decreased (1.448691 --> 1.444858).  Saving model ...\n",
      "Epoch 49, Train Loss: 1.4390, Validation Loss: 1.4410\n",
      "Validation loss decreased (1.444858 --> 1.441021).  Saving model ...\n",
      "Epoch 50, Train Loss: 1.4350, Validation Loss: 1.4372\n",
      "Validation loss decreased (1.441021 --> 1.437203).  Saving model ...\n",
      "Epoch 51, Train Loss: 1.4309, Validation Loss: 1.4334\n",
      "Validation loss decreased (1.437203 --> 1.433378).  Saving model ...\n",
      "Epoch 52, Train Loss: 1.4268, Validation Loss: 1.4295\n",
      "Validation loss decreased (1.433378 --> 1.429515).  Saving model ...\n",
      "Epoch 53, Train Loss: 1.4228, Validation Loss: 1.4257\n",
      "Validation loss decreased (1.429515 --> 1.425697).  Saving model ...\n",
      "Epoch 54, Train Loss: 1.4187, Validation Loss: 1.4219\n",
      "Validation loss decreased (1.425697 --> 1.421857).  Saving model ...\n",
      "Epoch 55, Train Loss: 1.4147, Validation Loss: 1.4180\n",
      "Validation loss decreased (1.421857 --> 1.418004).  Saving model ...\n",
      "Epoch 56, Train Loss: 1.4107, Validation Loss: 1.4141\n",
      "Validation loss decreased (1.418004 --> 1.414125).  Saving model ...\n",
      "Epoch 57, Train Loss: 1.4066, Validation Loss: 1.4103\n",
      "Validation loss decreased (1.414125 --> 1.410284).  Saving model ...\n",
      "Epoch 58, Train Loss: 1.4025, Validation Loss: 1.4064\n",
      "Validation loss decreased (1.410284 --> 1.406368).  Saving model ...\n",
      "Epoch 59, Train Loss: 1.3984, Validation Loss: 1.4025\n",
      "Validation loss decreased (1.406368 --> 1.402458).  Saving model ...\n",
      "Epoch 60, Train Loss: 1.3943, Validation Loss: 1.3985\n",
      "Validation loss decreased (1.402458 --> 1.398470).  Saving model ...\n",
      "Epoch 61, Train Loss: 1.3901, Validation Loss: 1.3945\n",
      "Validation loss decreased (1.398470 --> 1.394507).  Saving model ...\n",
      "Epoch 62, Train Loss: 1.3859, Validation Loss: 1.3905\n",
      "Validation loss decreased (1.394507 --> 1.390497).  Saving model ...\n",
      "Epoch 63, Train Loss: 1.3817, Validation Loss: 1.3865\n",
      "Validation loss decreased (1.390497 --> 1.386455).  Saving model ...\n",
      "Epoch 64, Train Loss: 1.3775, Validation Loss: 1.3824\n",
      "Validation loss decreased (1.386455 --> 1.382365).  Saving model ...\n",
      "Epoch 65, Train Loss: 1.3732, Validation Loss: 1.3782\n",
      "Validation loss decreased (1.382365 --> 1.378236).  Saving model ...\n",
      "Epoch 66, Train Loss: 1.3689, Validation Loss: 1.3741\n",
      "Validation loss decreased (1.378236 --> 1.374071).  Saving model ...\n",
      "Epoch 67, Train Loss: 1.3645, Validation Loss: 1.3698\n",
      "Validation loss decreased (1.374071 --> 1.369823).  Saving model ...\n",
      "Epoch 68, Train Loss: 1.3601, Validation Loss: 1.3655\n",
      "Validation loss decreased (1.369823 --> 1.365536).  Saving model ...\n",
      "Epoch 69, Train Loss: 1.3556, Validation Loss: 1.3611\n",
      "Validation loss decreased (1.365536 --> 1.361149).  Saving model ...\n",
      "Epoch 70, Train Loss: 1.3510, Validation Loss: 1.3567\n",
      "Validation loss decreased (1.361149 --> 1.356703).  Saving model ...\n",
      "Epoch 71, Train Loss: 1.3464, Validation Loss: 1.3522\n",
      "Validation loss decreased (1.356703 --> 1.352205).  Saving model ...\n",
      "Epoch 72, Train Loss: 1.3417, Validation Loss: 1.3476\n",
      "Validation loss decreased (1.352205 --> 1.347635).  Saving model ...\n",
      "Epoch 73, Train Loss: 1.3370, Validation Loss: 1.3429\n",
      "Validation loss decreased (1.347635 --> 1.342922).  Saving model ...\n",
      "Epoch 74, Train Loss: 1.3320, Validation Loss: 1.3381\n",
      "Validation loss decreased (1.342922 --> 1.338073).  Saving model ...\n",
      "Epoch 75, Train Loss: 1.3270, Validation Loss: 1.3332\n",
      "Validation loss decreased (1.338073 --> 1.333164).  Saving model ...\n",
      "Epoch 76, Train Loss: 1.3218, Validation Loss: 1.3281\n",
      "Validation loss decreased (1.333164 --> 1.328078).  Saving model ...\n",
      "Epoch 77, Train Loss: 1.3165, Validation Loss: 1.3229\n",
      "Validation loss decreased (1.328078 --> 1.322869).  Saving model ...\n",
      "Epoch 78, Train Loss: 1.3112, Validation Loss: 1.3175\n",
      "Validation loss decreased (1.322869 --> 1.317546).  Saving model ...\n",
      "Epoch 79, Train Loss: 1.3057, Validation Loss: 1.3120\n",
      "Validation loss decreased (1.317546 --> 1.312038).  Saving model ...\n",
      "Epoch 80, Train Loss: 1.2999, Validation Loss: 1.3063\n",
      "Validation loss decreased (1.312038 --> 1.306302).  Saving model ...\n",
      "Epoch 81, Train Loss: 1.2939, Validation Loss: 1.3003\n",
      "Validation loss decreased (1.306302 --> 1.300336).  Saving model ...\n",
      "Epoch 82, Train Loss: 1.2877, Validation Loss: 1.2941\n",
      "Validation loss decreased (1.300336 --> 1.294063).  Saving model ...\n",
      "Epoch 83, Train Loss: 1.2812, Validation Loss: 1.2876\n",
      "Validation loss decreased (1.294063 --> 1.287551).  Saving model ...\n",
      "Epoch 84, Train Loss: 1.2743, Validation Loss: 1.2807\n",
      "Validation loss decreased (1.287551 --> 1.280726).  Saving model ...\n",
      "Epoch 85, Train Loss: 1.2672, Validation Loss: 1.2735\n",
      "Validation loss decreased (1.280726 --> 1.273459).  Saving model ...\n",
      "Epoch 86, Train Loss: 1.2596, Validation Loss: 1.2659\n",
      "Validation loss decreased (1.273459 --> 1.265861).  Saving model ...\n",
      "Epoch 87, Train Loss: 1.2516, Validation Loss: 1.2577\n",
      "Validation loss decreased (1.265861 --> 1.257662).  Saving model ...\n",
      "Epoch 88, Train Loss: 1.2430, Validation Loss: 1.2490\n",
      "Validation loss decreased (1.257662 --> 1.248972).  Saving model ...\n",
      "Epoch 89, Train Loss: 1.2340, Validation Loss: 1.2398\n",
      "Validation loss decreased (1.248972 --> 1.239833).  Saving model ...\n",
      "Epoch 90, Train Loss: 1.2243, Validation Loss: 1.2300\n",
      "Validation loss decreased (1.239833 --> 1.229950).  Saving model ...\n",
      "Epoch 91, Train Loss: 1.2140, Validation Loss: 1.2195\n",
      "Validation loss decreased (1.229950 --> 1.219510).  Saving model ...\n",
      "Epoch 92, Train Loss: 1.2033, Validation Loss: 1.2087\n",
      "Validation loss decreased (1.219510 --> 1.208683).  Saving model ...\n",
      "Epoch 93, Train Loss: 1.1921, Validation Loss: 1.1975\n",
      "Validation loss decreased (1.208683 --> 1.197535).  Saving model ...\n",
      "Epoch 94, Train Loss: 1.1807, Validation Loss: 1.1861\n",
      "Validation loss decreased (1.197535 --> 1.186064).  Saving model ...\n",
      "Epoch 95, Train Loss: 1.1692, Validation Loss: 1.1748\n",
      "Validation loss decreased (1.186064 --> 1.174776).  Saving model ...\n",
      "Epoch 96, Train Loss: 1.1578, Validation Loss: 1.1637\n",
      "Validation loss decreased (1.174776 --> 1.163660).  Saving model ...\n",
      "Epoch 97, Train Loss: 1.1470, Validation Loss: 1.1532\n",
      "Validation loss decreased (1.163660 --> 1.153231).  Saving model ...\n",
      "Epoch 98, Train Loss: 1.1369, Validation Loss: 1.1436\n",
      "Validation loss decreased (1.153231 --> 1.143579).  Saving model ...\n",
      "Epoch 99, Train Loss: 1.1276, Validation Loss: 1.1345\n",
      "Validation loss decreased (1.143579 --> 1.134542).  Saving model ...\n",
      "Epoch 100, Train Loss: 1.1190, Validation Loss: 1.1265\n",
      "Validation loss decreased (1.134542 --> 1.126460).  Saving model ...\n",
      "Epoch 101, Train Loss: 1.1113, Validation Loss: 1.1192\n",
      "Validation loss decreased (1.126460 --> 1.119154).  Saving model ...\n",
      "Epoch 102, Train Loss: 1.1042, Validation Loss: 1.1124\n",
      "Validation loss decreased (1.119154 --> 1.112442).  Saving model ...\n",
      "Epoch 103, Train Loss: 1.0980, Validation Loss: 1.1065\n",
      "Validation loss decreased (1.112442 --> 1.106492).  Saving model ...\n",
      "Epoch 104, Train Loss: 1.0922, Validation Loss: 1.1010\n",
      "Validation loss decreased (1.106492 --> 1.100956).  Saving model ...\n",
      "Epoch 105, Train Loss: 1.0869, Validation Loss: 1.0958\n",
      "Validation loss decreased (1.100956 --> 1.095848).  Saving model ...\n",
      "Epoch 106, Train Loss: 1.0820, Validation Loss: 1.0911\n",
      "Validation loss decreased (1.095848 --> 1.091093).  Saving model ...\n",
      "Epoch 107, Train Loss: 1.0773, Validation Loss: 1.0866\n",
      "Validation loss decreased (1.091093 --> 1.086572).  Saving model ...\n",
      "Epoch 108, Train Loss: 1.0729, Validation Loss: 1.0823\n",
      "Validation loss decreased (1.086572 --> 1.082284).  Saving model ...\n",
      "Epoch 109, Train Loss: 1.0687, Validation Loss: 1.0782\n",
      "Validation loss decreased (1.082284 --> 1.078203).  Saving model ...\n",
      "Epoch 110, Train Loss: 1.0647, Validation Loss: 1.0743\n",
      "Validation loss decreased (1.078203 --> 1.074341).  Saving model ...\n",
      "Epoch 111, Train Loss: 1.0609, Validation Loss: 1.0706\n",
      "Validation loss decreased (1.074341 --> 1.070596).  Saving model ...\n",
      "Epoch 112, Train Loss: 1.0572, Validation Loss: 1.0670\n",
      "Validation loss decreased (1.070596 --> 1.066973).  Saving model ...\n",
      "Epoch 113, Train Loss: 1.0536, Validation Loss: 1.0635\n",
      "Validation loss decreased (1.066973 --> 1.063492).  Saving model ...\n",
      "Epoch 114, Train Loss: 1.0502, Validation Loss: 1.0601\n",
      "Validation loss decreased (1.063492 --> 1.060145).  Saving model ...\n",
      "Epoch 115, Train Loss: 1.0469, Validation Loss: 1.0569\n",
      "Validation loss decreased (1.060145 --> 1.056918).  Saving model ...\n",
      "Epoch 116, Train Loss: 1.0436, Validation Loss: 1.0538\n",
      "Validation loss decreased (1.056918 --> 1.053758).  Saving model ...\n",
      "Epoch 117, Train Loss: 1.0405, Validation Loss: 1.0507\n",
      "Validation loss decreased (1.053758 --> 1.050715).  Saving model ...\n",
      "Epoch 118, Train Loss: 1.0374, Validation Loss: 1.0477\n",
      "Validation loss decreased (1.050715 --> 1.047697).  Saving model ...\n",
      "Epoch 119, Train Loss: 1.0344, Validation Loss: 1.0448\n",
      "Validation loss decreased (1.047697 --> 1.044802).  Saving model ...\n",
      "Epoch 120, Train Loss: 1.0315, Validation Loss: 1.0419\n",
      "Validation loss decreased (1.044802 --> 1.041940).  Saving model ...\n",
      "Epoch 121, Train Loss: 1.0286, Validation Loss: 1.0391\n",
      "Validation loss decreased (1.041940 --> 1.039121).  Saving model ...\n",
      "Epoch 122, Train Loss: 1.0257, Validation Loss: 1.0364\n",
      "Validation loss decreased (1.039121 --> 1.036372).  Saving model ...\n",
      "Epoch 123, Train Loss: 1.0230, Validation Loss: 1.0338\n",
      "Validation loss decreased (1.036372 --> 1.033788).  Saving model ...\n",
      "Epoch 124, Train Loss: 1.0203, Validation Loss: 1.0311\n",
      "Validation loss decreased (1.033788 --> 1.031111).  Saving model ...\n",
      "Epoch 125, Train Loss: 1.0177, Validation Loss: 1.0286\n",
      "Validation loss decreased (1.031111 --> 1.028585).  Saving model ...\n",
      "Epoch 126, Train Loss: 1.0151, Validation Loss: 1.0261\n",
      "Validation loss decreased (1.028585 --> 1.026087).  Saving model ...\n",
      "Epoch 127, Train Loss: 1.0125, Validation Loss: 1.0236\n",
      "Validation loss decreased (1.026087 --> 1.023625).  Saving model ...\n",
      "Epoch 128, Train Loss: 1.0100, Validation Loss: 1.0212\n",
      "Validation loss decreased (1.023625 --> 1.021188).  Saving model ...\n",
      "Epoch 129, Train Loss: 1.0076, Validation Loss: 1.0189\n",
      "Validation loss decreased (1.021188 --> 1.018904).  Saving model ...\n",
      "Epoch 130, Train Loss: 1.0052, Validation Loss: 1.0165\n",
      "Validation loss decreased (1.018904 --> 1.016454).  Saving model ...\n",
      "Epoch 131, Train Loss: 1.0028, Validation Loss: 1.0142\n",
      "Validation loss decreased (1.016454 --> 1.014208).  Saving model ...\n",
      "Epoch 132, Train Loss: 1.0005, Validation Loss: 1.0119\n",
      "Validation loss decreased (1.014208 --> 1.011887).  Saving model ...\n",
      "Epoch 133, Train Loss: 0.9982, Validation Loss: 1.0097\n",
      "Validation loss decreased (1.011887 --> 1.009652).  Saving model ...\n",
      "Epoch 134, Train Loss: 0.9959, Validation Loss: 1.0075\n",
      "Validation loss decreased (1.009652 --> 1.007478).  Saving model ...\n",
      "Epoch 135, Train Loss: 0.9937, Validation Loss: 1.0053\n",
      "Validation loss decreased (1.007478 --> 1.005289).  Saving model ...\n",
      "Epoch 136, Train Loss: 0.9915, Validation Loss: 1.0032\n",
      "Validation loss decreased (1.005289 --> 1.003162).  Saving model ...\n",
      "Epoch 137, Train Loss: 0.9893, Validation Loss: 1.0011\n",
      "Validation loss decreased (1.003162 --> 1.001113).  Saving model ...\n",
      "Epoch 138, Train Loss: 0.9872, Validation Loss: 0.9990\n",
      "Validation loss decreased (1.001113 --> 0.998973).  Saving model ...\n",
      "Epoch 139, Train Loss: 0.9851, Validation Loss: 0.9969\n",
      "Validation loss decreased (0.998973 --> 0.996894).  Saving model ...\n",
      "Epoch 140, Train Loss: 0.9830, Validation Loss: 0.9949\n",
      "Validation loss decreased (0.996894 --> 0.994901).  Saving model ...\n",
      "Epoch 141, Train Loss: 0.9810, Validation Loss: 0.9928\n",
      "Validation loss decreased (0.994901 --> 0.992838).  Saving model ...\n",
      "Epoch 142, Train Loss: 0.9790, Validation Loss: 0.9909\n",
      "Validation loss decreased (0.992838 --> 0.990905).  Saving model ...\n",
      "Epoch 143, Train Loss: 0.9769, Validation Loss: 0.9889\n",
      "Validation loss decreased (0.990905 --> 0.988880).  Saving model ...\n",
      "Epoch 144, Train Loss: 0.9750, Validation Loss: 0.9869\n",
      "Validation loss decreased (0.988880 --> 0.986921).  Saving model ...\n",
      "Epoch 145, Train Loss: 0.9730, Validation Loss: 0.9850\n",
      "Validation loss decreased (0.986921 --> 0.985009).  Saving model ...\n",
      "Epoch 146, Train Loss: 0.9711, Validation Loss: 0.9831\n",
      "Validation loss decreased (0.985009 --> 0.983092).  Saving model ...\n",
      "Epoch 147, Train Loss: 0.9691, Validation Loss: 0.9812\n",
      "Validation loss decreased (0.983092 --> 0.981206).  Saving model ...\n",
      "Epoch 148, Train Loss: 0.9672, Validation Loss: 0.9793\n",
      "Validation loss decreased (0.981206 --> 0.979327).  Saving model ...\n",
      "Epoch 149, Train Loss: 0.9654, Validation Loss: 0.9775\n",
      "Validation loss decreased (0.979327 --> 0.977501).  Saving model ...\n",
      "Epoch 150, Train Loss: 0.9635, Validation Loss: 0.9756\n",
      "Validation loss decreased (0.977501 --> 0.975625).  Saving model ...\n",
      "Epoch 151, Train Loss: 0.9616, Validation Loss: 0.9738\n",
      "Validation loss decreased (0.975625 --> 0.973783).  Saving model ...\n",
      "Epoch 152, Train Loss: 0.9598, Validation Loss: 0.9720\n",
      "Validation loss decreased (0.973783 --> 0.972018).  Saving model ...\n",
      "Epoch 153, Train Loss: 0.9580, Validation Loss: 0.9703\n",
      "Validation loss decreased (0.972018 --> 0.970267).  Saving model ...\n",
      "Epoch 154, Train Loss: 0.9562, Validation Loss: 0.9684\n",
      "Validation loss decreased (0.970267 --> 0.968411).  Saving model ...\n",
      "Epoch 155, Train Loss: 0.9544, Validation Loss: 0.9666\n",
      "Validation loss decreased (0.968411 --> 0.966631).  Saving model ...\n",
      "Epoch 156, Train Loss: 0.9526, Validation Loss: 0.9649\n",
      "Validation loss decreased (0.966631 --> 0.964893).  Saving model ...\n",
      "Epoch 157, Train Loss: 0.9508, Validation Loss: 0.9631\n",
      "Validation loss decreased (0.964893 --> 0.963140).  Saving model ...\n",
      "Epoch 158, Train Loss: 0.9491, Validation Loss: 0.9614\n",
      "Validation loss decreased (0.963140 --> 0.961394).  Saving model ...\n",
      "Epoch 159, Train Loss: 0.9474, Validation Loss: 0.9597\n",
      "Validation loss decreased (0.961394 --> 0.959668).  Saving model ...\n",
      "Epoch 160, Train Loss: 0.9456, Validation Loss: 0.9580\n",
      "Validation loss decreased (0.959668 --> 0.957960).  Saving model ...\n",
      "Epoch 161, Train Loss: 0.9439, Validation Loss: 0.9563\n",
      "Validation loss decreased (0.957960 --> 0.956334).  Saving model ...\n",
      "Epoch 162, Train Loss: 0.9422, Validation Loss: 0.9546\n",
      "Validation loss decreased (0.956334 --> 0.954620).  Saving model ...\n",
      "Epoch 163, Train Loss: 0.9405, Validation Loss: 0.9529\n",
      "Validation loss decreased (0.954620 --> 0.952923).  Saving model ...\n",
      "Epoch 164, Train Loss: 0.9388, Validation Loss: 0.9513\n",
      "Validation loss decreased (0.952923 --> 0.951320).  Saving model ...\n",
      "Epoch 165, Train Loss: 0.9372, Validation Loss: 0.9496\n",
      "Validation loss decreased (0.951320 --> 0.949583).  Saving model ...\n",
      "Epoch 166, Train Loss: 0.9355, Validation Loss: 0.9479\n",
      "Validation loss decreased (0.949583 --> 0.947939).  Saving model ...\n",
      "Epoch 167, Train Loss: 0.9338, Validation Loss: 0.9464\n",
      "Validation loss decreased (0.947939 --> 0.946402).  Saving model ...\n",
      "Epoch 168, Train Loss: 0.9322, Validation Loss: 0.9447\n",
      "Validation loss decreased (0.946402 --> 0.944728).  Saving model ...\n",
      "Epoch 169, Train Loss: 0.9306, Validation Loss: 0.9431\n",
      "Validation loss decreased (0.944728 --> 0.943075).  Saving model ...\n",
      "Epoch 170, Train Loss: 0.9289, Validation Loss: 0.9415\n",
      "Validation loss decreased (0.943075 --> 0.941533).  Saving model ...\n",
      "Epoch 171, Train Loss: 0.9273, Validation Loss: 0.9399\n",
      "Validation loss decreased (0.941533 --> 0.939864).  Saving model ...\n",
      "Epoch 172, Train Loss: 0.9257, Validation Loss: 0.9383\n",
      "Validation loss decreased (0.939864 --> 0.938331).  Saving model ...\n",
      "Epoch 173, Train Loss: 0.9241, Validation Loss: 0.9367\n",
      "Validation loss decreased (0.938331 --> 0.936668).  Saving model ...\n",
      "Epoch 174, Train Loss: 0.9225, Validation Loss: 0.9352\n",
      "Validation loss decreased (0.936668 --> 0.935165).  Saving model ...\n",
      "Epoch 175, Train Loss: 0.9209, Validation Loss: 0.9336\n",
      "Validation loss decreased (0.935165 --> 0.933605).  Saving model ...\n",
      "Epoch 176, Train Loss: 0.9194, Validation Loss: 0.9320\n",
      "Validation loss decreased (0.933605 --> 0.931974).  Saving model ...\n",
      "Epoch 177, Train Loss: 0.9178, Validation Loss: 0.9304\n",
      "Validation loss decreased (0.931974 --> 0.930410).  Saving model ...\n",
      "Epoch 178, Train Loss: 0.9162, Validation Loss: 0.9289\n",
      "Validation loss decreased (0.930410 --> 0.928852).  Saving model ...\n",
      "Epoch 179, Train Loss: 0.9147, Validation Loss: 0.9273\n",
      "Validation loss decreased (0.928852 --> 0.927279).  Saving model ...\n",
      "Epoch 180, Train Loss: 0.9131, Validation Loss: 0.9258\n",
      "Validation loss decreased (0.927279 --> 0.925798).  Saving model ...\n",
      "Epoch 181, Train Loss: 0.9116, Validation Loss: 0.9243\n",
      "Validation loss decreased (0.925798 --> 0.924320).  Saving model ...\n",
      "Epoch 182, Train Loss: 0.9101, Validation Loss: 0.9227\n",
      "Validation loss decreased (0.924320 --> 0.922736).  Saving model ...\n",
      "Epoch 183, Train Loss: 0.9086, Validation Loss: 0.9213\n",
      "Validation loss decreased (0.922736 --> 0.921320).  Saving model ...\n",
      "Epoch 184, Train Loss: 0.9071, Validation Loss: 0.9198\n",
      "Validation loss decreased (0.921320 --> 0.919784).  Saving model ...\n",
      "Epoch 185, Train Loss: 0.9056, Validation Loss: 0.9183\n",
      "Validation loss decreased (0.919784 --> 0.918310).  Saving model ...\n",
      "Epoch 186, Train Loss: 0.9041, Validation Loss: 0.9169\n",
      "Validation loss decreased (0.918310 --> 0.916870).  Saving model ...\n",
      "Epoch 187, Train Loss: 0.9026, Validation Loss: 0.9154\n",
      "Validation loss decreased (0.916870 --> 0.915371).  Saving model ...\n",
      "Epoch 188, Train Loss: 0.9012, Validation Loss: 0.9139\n",
      "Validation loss decreased (0.915371 --> 0.913896).  Saving model ...\n",
      "Epoch 189, Train Loss: 0.8997, Validation Loss: 0.9124\n",
      "Validation loss decreased (0.913896 --> 0.912439).  Saving model ...\n",
      "Epoch 190, Train Loss: 0.8983, Validation Loss: 0.9111\n",
      "Validation loss decreased (0.912439 --> 0.911128).  Saving model ...\n",
      "Epoch 191, Train Loss: 0.8968, Validation Loss: 0.9096\n",
      "Validation loss decreased (0.911128 --> 0.909605).  Saving model ...\n",
      "Epoch 192, Train Loss: 0.8954, Validation Loss: 0.9082\n",
      "Validation loss decreased (0.909605 --> 0.908237).  Saving model ...\n",
      "Epoch 193, Train Loss: 0.8940, Validation Loss: 0.9068\n",
      "Validation loss decreased (0.908237 --> 0.906834).  Saving model ...\n",
      "Epoch 194, Train Loss: 0.8926, Validation Loss: 0.9054\n",
      "Validation loss decreased (0.906834 --> 0.905436).  Saving model ...\n",
      "Epoch 195, Train Loss: 0.8912, Validation Loss: 0.9041\n",
      "Validation loss decreased (0.905436 --> 0.904102).  Saving model ...\n",
      "Epoch 196, Train Loss: 0.8898, Validation Loss: 0.9027\n",
      "Validation loss decreased (0.904102 --> 0.902697).  Saving model ...\n",
      "Epoch 197, Train Loss: 0.8885, Validation Loss: 0.9014\n",
      "Validation loss decreased (0.902697 --> 0.901378).  Saving model ...\n",
      "Epoch 198, Train Loss: 0.8871, Validation Loss: 0.9001\n",
      "Validation loss decreased (0.901378 --> 0.900096).  Saving model ...\n",
      "Epoch 199, Train Loss: 0.8858, Validation Loss: 0.8987\n",
      "Validation loss decreased (0.900096 --> 0.898707).  Saving model ...\n",
      "Epoch 200, Train Loss: 0.8845, Validation Loss: 0.8974\n",
      "Validation loss decreased (0.898707 --> 0.897380).  Saving model ...\n",
      "Epoch 201, Train Loss: 0.8831, Validation Loss: 0.8961\n",
      "Validation loss decreased (0.897380 --> 0.896093).  Saving model ...\n",
      "Epoch 202, Train Loss: 0.8818, Validation Loss: 0.8949\n",
      "Validation loss decreased (0.896093 --> 0.894884).  Saving model ...\n",
      "Epoch 203, Train Loss: 0.8806, Validation Loss: 0.8936\n",
      "Validation loss decreased (0.894884 --> 0.893589).  Saving model ...\n",
      "Epoch 204, Train Loss: 0.8793, Validation Loss: 0.8923\n",
      "Validation loss decreased (0.893589 --> 0.892318).  Saving model ...\n",
      "Epoch 205, Train Loss: 0.8780, Validation Loss: 0.8911\n",
      "Validation loss decreased (0.892318 --> 0.891098).  Saving model ...\n",
      "Epoch 206, Train Loss: 0.8768, Validation Loss: 0.8898\n",
      "Validation loss decreased (0.891098 --> 0.889831).  Saving model ...\n",
      "Epoch 207, Train Loss: 0.8756, Validation Loss: 0.8886\n",
      "Validation loss decreased (0.889831 --> 0.888614).  Saving model ...\n",
      "Epoch 208, Train Loss: 0.8743, Validation Loss: 0.8874\n",
      "Validation loss decreased (0.888614 --> 0.887446).  Saving model ...\n",
      "Epoch 209, Train Loss: 0.8731, Validation Loss: 0.8862\n",
      "Validation loss decreased (0.887446 --> 0.886243).  Saving model ...\n",
      "Epoch 210, Train Loss: 0.8719, Validation Loss: 0.8851\n",
      "Validation loss decreased (0.886243 --> 0.885063).  Saving model ...\n",
      "Epoch 211, Train Loss: 0.8708, Validation Loss: 0.8840\n",
      "Validation loss decreased (0.885063 --> 0.883962).  Saving model ...\n",
      "Epoch 212, Train Loss: 0.8696, Validation Loss: 0.8828\n",
      "Validation loss decreased (0.883962 --> 0.882768).  Saving model ...\n",
      "Epoch 213, Train Loss: 0.8685, Validation Loss: 0.8817\n",
      "Validation loss decreased (0.882768 --> 0.881652).  Saving model ...\n",
      "Epoch 214, Train Loss: 0.8673, Validation Loss: 0.8806\n",
      "Validation loss decreased (0.881652 --> 0.880553).  Saving model ...\n",
      "Epoch 215, Train Loss: 0.8662, Validation Loss: 0.8794\n",
      "Validation loss decreased (0.880553 --> 0.879437).  Saving model ...\n",
      "Epoch 216, Train Loss: 0.8651, Validation Loss: 0.8783\n",
      "Validation loss decreased (0.879437 --> 0.878308).  Saving model ...\n",
      "Epoch 217, Train Loss: 0.8640, Validation Loss: 0.8773\n",
      "Validation loss decreased (0.878308 --> 0.877265).  Saving model ...\n",
      "Epoch 218, Train Loss: 0.8629, Validation Loss: 0.8762\n",
      "Validation loss decreased (0.877265 --> 0.876207).  Saving model ...\n",
      "Epoch 219, Train Loss: 0.8618, Validation Loss: 0.8751\n",
      "Validation loss decreased (0.876207 --> 0.875077).  Saving model ...\n",
      "Epoch 220, Train Loss: 0.8608, Validation Loss: 0.8741\n",
      "Validation loss decreased (0.875077 --> 0.874127).  Saving model ...\n",
      "Epoch 221, Train Loss: 0.8598, Validation Loss: 0.8731\n",
      "Validation loss decreased (0.874127 --> 0.873104).  Saving model ...\n",
      "Epoch 222, Train Loss: 0.8587, Validation Loss: 0.8722\n",
      "Validation loss decreased (0.873104 --> 0.872220).  Saving model ...\n",
      "Epoch 223, Train Loss: 0.8578, Validation Loss: 0.8712\n",
      "Validation loss decreased (0.872220 --> 0.871151).  Saving model ...\n",
      "Epoch 224, Train Loss: 0.8567, Validation Loss: 0.8701\n",
      "Validation loss decreased (0.871151 --> 0.870139).  Saving model ...\n",
      "Epoch 225, Train Loss: 0.8558, Validation Loss: 0.8692\n",
      "Validation loss decreased (0.870139 --> 0.869218).  Saving model ...\n",
      "Epoch 226, Train Loss: 0.8548, Validation Loss: 0.8682\n",
      "Validation loss decreased (0.869218 --> 0.868236).  Saving model ...\n",
      "Epoch 227, Train Loss: 0.8538, Validation Loss: 0.8674\n",
      "Validation loss decreased (0.868236 --> 0.867417).  Saving model ...\n",
      "Epoch 228, Train Loss: 0.8529, Validation Loss: 0.8664\n",
      "Validation loss decreased (0.867417 --> 0.866403).  Saving model ...\n",
      "Epoch 229, Train Loss: 0.8520, Validation Loss: 0.8655\n",
      "Validation loss decreased (0.866403 --> 0.865489).  Saving model ...\n",
      "Epoch 230, Train Loss: 0.8510, Validation Loss: 0.8646\n",
      "Validation loss decreased (0.865489 --> 0.864564).  Saving model ...\n",
      "Epoch 231, Train Loss: 0.8501, Validation Loss: 0.8637\n",
      "Validation loss decreased (0.864564 --> 0.863733).  Saving model ...\n",
      "Epoch 232, Train Loss: 0.8493, Validation Loss: 0.8629\n",
      "Validation loss decreased (0.863733 --> 0.862901).  Saving model ...\n",
      "Epoch 233, Train Loss: 0.8484, Validation Loss: 0.8620\n",
      "Validation loss decreased (0.862901 --> 0.862039).  Saving model ...\n",
      "Epoch 234, Train Loss: 0.8475, Validation Loss: 0.8612\n",
      "Validation loss decreased (0.862039 --> 0.861160).  Saving model ...\n",
      "Epoch 235, Train Loss: 0.8467, Validation Loss: 0.8604\n",
      "Validation loss decreased (0.861160 --> 0.860367).  Saving model ...\n",
      "Epoch 236, Train Loss: 0.8458, Validation Loss: 0.8595\n",
      "Validation loss decreased (0.860367 --> 0.859543).  Saving model ...\n",
      "Epoch 237, Train Loss: 0.8450, Validation Loss: 0.8588\n",
      "Validation loss decreased (0.859543 --> 0.858750).  Saving model ...\n",
      "Epoch 238, Train Loss: 0.8442, Validation Loss: 0.8580\n",
      "Validation loss decreased (0.858750 --> 0.858020).  Saving model ...\n",
      "Epoch 239, Train Loss: 0.8434, Validation Loss: 0.8572\n",
      "Validation loss decreased (0.858020 --> 0.857205).  Saving model ...\n",
      "Epoch 240, Train Loss: 0.8426, Validation Loss: 0.8564\n",
      "Validation loss decreased (0.857205 --> 0.856414).  Saving model ...\n",
      "Epoch 241, Train Loss: 0.8418, Validation Loss: 0.8557\n",
      "Validation loss decreased (0.856414 --> 0.855690).  Saving model ...\n",
      "Epoch 242, Train Loss: 0.8411, Validation Loss: 0.8550\n",
      "Validation loss decreased (0.855690 --> 0.855000).  Saving model ...\n",
      "Epoch 243, Train Loss: 0.8403, Validation Loss: 0.8542\n",
      "Validation loss decreased (0.855000 --> 0.854234).  Saving model ...\n",
      "Epoch 244, Train Loss: 0.8395, Validation Loss: 0.8535\n",
      "Validation loss decreased (0.854234 --> 0.853517).  Saving model ...\n",
      "Epoch 245, Train Loss: 0.8388, Validation Loss: 0.8528\n",
      "Validation loss decreased (0.853517 --> 0.852759).  Saving model ...\n",
      "Epoch 246, Train Loss: 0.8380, Validation Loss: 0.8521\n",
      "Validation loss decreased (0.852759 --> 0.852095).  Saving model ...\n",
      "Epoch 247, Train Loss: 0.8373, Validation Loss: 0.8514\n",
      "Validation loss decreased (0.852095 --> 0.851408).  Saving model ...\n",
      "Epoch 248, Train Loss: 0.8366, Validation Loss: 0.8507\n",
      "Validation loss decreased (0.851408 --> 0.850736).  Saving model ...\n",
      "Epoch 249, Train Loss: 0.8359, Validation Loss: 0.8501\n",
      "Validation loss decreased (0.850736 --> 0.850093).  Saving model ...\n",
      "Epoch 250, Train Loss: 0.8352, Validation Loss: 0.8494\n",
      "Validation loss decreased (0.850093 --> 0.849378).  Saving model ...\n",
      "Epoch 251, Train Loss: 0.8345, Validation Loss: 0.8487\n",
      "Validation loss decreased (0.849378 --> 0.848678).  Saving model ...\n",
      "Epoch 252, Train Loss: 0.8338, Validation Loss: 0.8481\n",
      "Validation loss decreased (0.848678 --> 0.848092).  Saving model ...\n",
      "Epoch 253, Train Loss: 0.8332, Validation Loss: 0.8474\n",
      "Validation loss decreased (0.848092 --> 0.847405).  Saving model ...\n",
      "Epoch 254, Train Loss: 0.8325, Validation Loss: 0.8469\n",
      "Validation loss decreased (0.847405 --> 0.846873).  Saving model ...\n",
      "Epoch 255, Train Loss: 0.8319, Validation Loss: 0.8462\n",
      "Validation loss decreased (0.846873 --> 0.846179).  Saving model ...\n",
      "Epoch 256, Train Loss: 0.8312, Validation Loss: 0.8456\n",
      "Validation loss decreased (0.846179 --> 0.845634).  Saving model ...\n",
      "Epoch 257, Train Loss: 0.8306, Validation Loss: 0.8449\n",
      "Validation loss decreased (0.845634 --> 0.844945).  Saving model ...\n",
      "Epoch 258, Train Loss: 0.8299, Validation Loss: 0.8444\n",
      "Validation loss decreased (0.844945 --> 0.844361).  Saving model ...\n",
      "Epoch 259, Train Loss: 0.8293, Validation Loss: 0.8438\n",
      "Validation loss decreased (0.844361 --> 0.843772).  Saving model ...\n",
      "Epoch 260, Train Loss: 0.8287, Validation Loss: 0.8432\n",
      "Validation loss decreased (0.843772 --> 0.843201).  Saving model ...\n",
      "Epoch 261, Train Loss: 0.8281, Validation Loss: 0.8426\n",
      "Validation loss decreased (0.843201 --> 0.842625).  Saving model ...\n",
      "Epoch 262, Train Loss: 0.8275, Validation Loss: 0.8420\n",
      "Validation loss decreased (0.842625 --> 0.842038).  Saving model ...\n",
      "Epoch 263, Train Loss: 0.8269, Validation Loss: 0.8414\n",
      "Validation loss decreased (0.842038 --> 0.841446).  Saving model ...\n",
      "Epoch 264, Train Loss: 0.8263, Validation Loss: 0.8409\n",
      "Validation loss decreased (0.841446 --> 0.840892).  Saving model ...\n",
      "Epoch 265, Train Loss: 0.8257, Validation Loss: 0.8403\n",
      "Validation loss decreased (0.840892 --> 0.840314).  Saving model ...\n",
      "Epoch 266, Train Loss: 0.8252, Validation Loss: 0.8398\n",
      "Validation loss decreased (0.840314 --> 0.839801).  Saving model ...\n",
      "Epoch 267, Train Loss: 0.8246, Validation Loss: 0.8393\n",
      "Validation loss decreased (0.839801 --> 0.839261).  Saving model ...\n",
      "Epoch 268, Train Loss: 0.8240, Validation Loss: 0.8387\n",
      "Validation loss decreased (0.839261 --> 0.838744).  Saving model ...\n",
      "Epoch 269, Train Loss: 0.8235, Validation Loss: 0.8382\n",
      "Validation loss decreased (0.838744 --> 0.838193).  Saving model ...\n",
      "Epoch 270, Train Loss: 0.8229, Validation Loss: 0.8377\n",
      "Validation loss decreased (0.838193 --> 0.837702).  Saving model ...\n",
      "Epoch 271, Train Loss: 0.8223, Validation Loss: 0.8372\n",
      "Validation loss decreased (0.837702 --> 0.837181).  Saving model ...\n",
      "Epoch 272, Train Loss: 0.8218, Validation Loss: 0.8366\n",
      "Validation loss decreased (0.837181 --> 0.836611).  Saving model ...\n",
      "Epoch 273, Train Loss: 0.8213, Validation Loss: 0.8361\n",
      "Validation loss decreased (0.836611 --> 0.836097).  Saving model ...\n",
      "Epoch 274, Train Loss: 0.8207, Validation Loss: 0.8356\n",
      "Validation loss decreased (0.836097 --> 0.835621).  Saving model ...\n",
      "Epoch 275, Train Loss: 0.8202, Validation Loss: 0.8351\n",
      "Validation loss decreased (0.835621 --> 0.835131).  Saving model ...\n",
      "Epoch 276, Train Loss: 0.8197, Validation Loss: 0.8347\n",
      "Validation loss decreased (0.835131 --> 0.834686).  Saving model ...\n",
      "Epoch 277, Train Loss: 0.8192, Validation Loss: 0.8342\n",
      "Validation loss decreased (0.834686 --> 0.834225).  Saving model ...\n",
      "Epoch 278, Train Loss: 0.8186, Validation Loss: 0.8337\n",
      "Validation loss decreased (0.834225 --> 0.833682).  Saving model ...\n",
      "Epoch 279, Train Loss: 0.8181, Validation Loss: 0.8331\n",
      "Validation loss decreased (0.833682 --> 0.833144).  Saving model ...\n",
      "Epoch 280, Train Loss: 0.8176, Validation Loss: 0.8327\n",
      "Validation loss decreased (0.833144 --> 0.832686).  Saving model ...\n",
      "Epoch 281, Train Loss: 0.8171, Validation Loss: 0.8322\n",
      "Validation loss decreased (0.832686 --> 0.832247).  Saving model ...\n",
      "Epoch 282, Train Loss: 0.8166, Validation Loss: 0.8318\n",
      "Validation loss decreased (0.832247 --> 0.831796).  Saving model ...\n",
      "Epoch 283, Train Loss: 0.8161, Validation Loss: 0.8313\n",
      "Validation loss decreased (0.831796 --> 0.831291).  Saving model ...\n",
      "Epoch 284, Train Loss: 0.8156, Validation Loss: 0.8308\n",
      "Validation loss decreased (0.831291 --> 0.830807).  Saving model ...\n",
      "Epoch 285, Train Loss: 0.8151, Validation Loss: 0.8304\n",
      "Validation loss decreased (0.830807 --> 0.830383).  Saving model ...\n",
      "Epoch 286, Train Loss: 0.8147, Validation Loss: 0.8299\n",
      "Validation loss decreased (0.830383 --> 0.829886).  Saving model ...\n",
      "Epoch 287, Train Loss: 0.8142, Validation Loss: 0.8295\n",
      "Validation loss decreased (0.829886 --> 0.829497).  Saving model ...\n",
      "Epoch 288, Train Loss: 0.8137, Validation Loss: 0.8290\n",
      "Validation loss decreased (0.829497 --> 0.829016).  Saving model ...\n",
      "Epoch 289, Train Loss: 0.8132, Validation Loss: 0.8286\n",
      "Validation loss decreased (0.829016 --> 0.828628).  Saving model ...\n",
      "Epoch 290, Train Loss: 0.8128, Validation Loss: 0.8282\n",
      "Validation loss decreased (0.828628 --> 0.828177).  Saving model ...\n",
      "Epoch 291, Train Loss: 0.8123, Validation Loss: 0.8278\n",
      "Validation loss decreased (0.828177 --> 0.827750).  Saving model ...\n",
      "Epoch 292, Train Loss: 0.8118, Validation Loss: 0.8273\n",
      "Validation loss decreased (0.827750 --> 0.827314).  Saving model ...\n",
      "Epoch 293, Train Loss: 0.8114, Validation Loss: 0.8269\n",
      "Validation loss decreased (0.827314 --> 0.826881).  Saving model ...\n",
      "Epoch 294, Train Loss: 0.8109, Validation Loss: 0.8265\n",
      "Validation loss decreased (0.826881 --> 0.826468).  Saving model ...\n",
      "Epoch 295, Train Loss: 0.8105, Validation Loss: 0.8260\n",
      "Validation loss decreased (0.826468 --> 0.825982).  Saving model ...\n",
      "Epoch 296, Train Loss: 0.8101, Validation Loss: 0.8256\n",
      "Validation loss decreased (0.825982 --> 0.825624).  Saving model ...\n",
      "Epoch 297, Train Loss: 0.8096, Validation Loss: 0.8252\n",
      "Validation loss decreased (0.825624 --> 0.825227).  Saving model ...\n",
      "Epoch 298, Train Loss: 0.8092, Validation Loss: 0.8248\n",
      "Validation loss decreased (0.825227 --> 0.824799).  Saving model ...\n",
      "Epoch 299, Train Loss: 0.8087, Validation Loss: 0.8244\n",
      "Validation loss decreased (0.824799 --> 0.824359).  Saving model ...\n",
      "Epoch 300, Train Loss: 0.8083, Validation Loss: 0.8239\n",
      "Validation loss decreased (0.824359 --> 0.823924).  Saving model ...\n",
      "Epoch 301, Train Loss: 0.8079, Validation Loss: 0.8236\n",
      "Validation loss decreased (0.823924 --> 0.823597).  Saving model ...\n",
      "Epoch 302, Train Loss: 0.8075, Validation Loss: 0.8232\n",
      "Validation loss decreased (0.823597 --> 0.823160).  Saving model ...\n",
      "Epoch 303, Train Loss: 0.8070, Validation Loss: 0.8228\n",
      "Validation loss decreased (0.823160 --> 0.822777).  Saving model ...\n",
      "Epoch 304, Train Loss: 0.8066, Validation Loss: 0.8223\n",
      "Validation loss decreased (0.822777 --> 0.822344).  Saving model ...\n",
      "Epoch 305, Train Loss: 0.8062, Validation Loss: 0.8220\n",
      "Validation loss decreased (0.822344 --> 0.821980).  Saving model ...\n",
      "Epoch 306, Train Loss: 0.8058, Validation Loss: 0.8216\n",
      "Validation loss decreased (0.821980 --> 0.821595).  Saving model ...\n",
      "Epoch 307, Train Loss: 0.8053, Validation Loss: 0.8213\n",
      "Validation loss decreased (0.821595 --> 0.821290).  Saving model ...\n",
      "Epoch 308, Train Loss: 0.8049, Validation Loss: 0.8209\n",
      "Validation loss decreased (0.821290 --> 0.820857).  Saving model ...\n",
      "Epoch 309, Train Loss: 0.8045, Validation Loss: 0.8204\n",
      "Validation loss decreased (0.820857 --> 0.820392).  Saving model ...\n",
      "Epoch 310, Train Loss: 0.8041, Validation Loss: 0.8200\n",
      "Validation loss decreased (0.820392 --> 0.820029).  Saving model ...\n",
      "Epoch 311, Train Loss: 0.8037, Validation Loss: 0.8196\n",
      "Validation loss decreased (0.820029 --> 0.819650).  Saving model ...\n",
      "Epoch 312, Train Loss: 0.8033, Validation Loss: 0.8193\n",
      "Validation loss decreased (0.819650 --> 0.819274).  Saving model ...\n",
      "Epoch 313, Train Loss: 0.8029, Validation Loss: 0.8190\n",
      "Validation loss decreased (0.819274 --> 0.818963).  Saving model ...\n",
      "Epoch 314, Train Loss: 0.8025, Validation Loss: 0.8185\n",
      "Validation loss decreased (0.818963 --> 0.818540).  Saving model ...\n",
      "Epoch 315, Train Loss: 0.8022, Validation Loss: 0.8182\n",
      "Validation loss decreased (0.818540 --> 0.818199).  Saving model ...\n",
      "Epoch 316, Train Loss: 0.8017, Validation Loss: 0.8179\n",
      "Validation loss decreased (0.818199 --> 0.817871).  Saving model ...\n",
      "Epoch 317, Train Loss: 0.8014, Validation Loss: 0.8175\n",
      "Validation loss decreased (0.817871 --> 0.817490).  Saving model ...\n",
      "Epoch 318, Train Loss: 0.8010, Validation Loss: 0.8171\n",
      "Validation loss decreased (0.817490 --> 0.817125).  Saving model ...\n",
      "Epoch 319, Train Loss: 0.8006, Validation Loss: 0.8167\n",
      "Validation loss decreased (0.817125 --> 0.816702).  Saving model ...\n",
      "Epoch 320, Train Loss: 0.8002, Validation Loss: 0.8164\n",
      "Validation loss decreased (0.816702 --> 0.816397).  Saving model ...\n",
      "Epoch 321, Train Loss: 0.7998, Validation Loss: 0.8161\n",
      "Validation loss decreased (0.816397 --> 0.816071).  Saving model ...\n",
      "Epoch 322, Train Loss: 0.7995, Validation Loss: 0.8158\n",
      "Validation loss decreased (0.816071 --> 0.815750).  Saving model ...\n",
      "Epoch 323, Train Loss: 0.7991, Validation Loss: 0.8154\n",
      "Validation loss decreased (0.815750 --> 0.815367).  Saving model ...\n",
      "Epoch 324, Train Loss: 0.7987, Validation Loss: 0.8150\n",
      "Validation loss decreased (0.815367 --> 0.815004).  Saving model ...\n",
      "Epoch 325, Train Loss: 0.7984, Validation Loss: 0.8147\n",
      "Validation loss decreased (0.815004 --> 0.814667).  Saving model ...\n",
      "Epoch 326, Train Loss: 0.7980, Validation Loss: 0.8143\n",
      "Validation loss decreased (0.814667 --> 0.814317).  Saving model ...\n",
      "Epoch 327, Train Loss: 0.7976, Validation Loss: 0.8139\n",
      "Validation loss decreased (0.814317 --> 0.813937).  Saving model ...\n",
      "Epoch 328, Train Loss: 0.7973, Validation Loss: 0.8136\n",
      "Validation loss decreased (0.813937 --> 0.813601).  Saving model ...\n",
      "Epoch 329, Train Loss: 0.7969, Validation Loss: 0.8132\n",
      "Validation loss decreased (0.813601 --> 0.813248).  Saving model ...\n",
      "Epoch 330, Train Loss: 0.7966, Validation Loss: 0.8129\n",
      "Validation loss decreased (0.813248 --> 0.812927).  Saving model ...\n",
      "Epoch 331, Train Loss: 0.7962, Validation Loss: 0.8127\n",
      "Validation loss decreased (0.812927 --> 0.812660).  Saving model ...\n",
      "Epoch 332, Train Loss: 0.7959, Validation Loss: 0.8123\n",
      "Validation loss decreased (0.812660 --> 0.812302).  Saving model ...\n",
      "Epoch 333, Train Loss: 0.7955, Validation Loss: 0.8120\n",
      "Validation loss decreased (0.812302 --> 0.812010).  Saving model ...\n",
      "Epoch 334, Train Loss: 0.7952, Validation Loss: 0.8116\n",
      "Validation loss decreased (0.812010 --> 0.811639).  Saving model ...\n",
      "Epoch 335, Train Loss: 0.7948, Validation Loss: 0.8113\n",
      "Validation loss decreased (0.811639 --> 0.811340).  Saving model ...\n",
      "Epoch 336, Train Loss: 0.7945, Validation Loss: 0.8110\n",
      "Validation loss decreased (0.811340 --> 0.810995).  Saving model ...\n",
      "Epoch 337, Train Loss: 0.7941, Validation Loss: 0.8107\n",
      "Validation loss decreased (0.810995 --> 0.810689).  Saving model ...\n",
      "Epoch 338, Train Loss: 0.7938, Validation Loss: 0.8103\n",
      "Validation loss decreased (0.810689 --> 0.810350).  Saving model ...\n",
      "Epoch 339, Train Loss: 0.7934, Validation Loss: 0.8101\n",
      "Validation loss decreased (0.810350 --> 0.810062).  Saving model ...\n",
      "Epoch 340, Train Loss: 0.7931, Validation Loss: 0.8097\n",
      "Validation loss decreased (0.810062 --> 0.809735).  Saving model ...\n",
      "Epoch 341, Train Loss: 0.7928, Validation Loss: 0.8094\n",
      "Validation loss decreased (0.809735 --> 0.809405).  Saving model ...\n",
      "Epoch 342, Train Loss: 0.7924, Validation Loss: 0.8092\n",
      "Validation loss decreased (0.809405 --> 0.809179).  Saving model ...\n",
      "Epoch 343, Train Loss: 0.7921, Validation Loss: 0.8088\n",
      "Validation loss decreased (0.809179 --> 0.808818).  Saving model ...\n",
      "Epoch 344, Train Loss: 0.7918, Validation Loss: 0.8085\n",
      "Validation loss decreased (0.808818 --> 0.808507).  Saving model ...\n",
      "Epoch 345, Train Loss: 0.7915, Validation Loss: 0.8082\n",
      "Validation loss decreased (0.808507 --> 0.808191).  Saving model ...\n",
      "Epoch 346, Train Loss: 0.7911, Validation Loss: 0.8079\n",
      "Validation loss decreased (0.808191 --> 0.807914).  Saving model ...\n",
      "Epoch 347, Train Loss: 0.7908, Validation Loss: 0.8075\n",
      "Validation loss decreased (0.807914 --> 0.807539).  Saving model ...\n",
      "Epoch 348, Train Loss: 0.7905, Validation Loss: 0.8073\n",
      "Validation loss decreased (0.807539 --> 0.807276).  Saving model ...\n",
      "Epoch 349, Train Loss: 0.7902, Validation Loss: 0.8070\n",
      "Validation loss decreased (0.807276 --> 0.807047).  Saving model ...\n",
      "Epoch 350, Train Loss: 0.7899, Validation Loss: 0.8067\n",
      "Validation loss decreased (0.807047 --> 0.806688).  Saving model ...\n",
      "Epoch 351, Train Loss: 0.7895, Validation Loss: 0.8064\n",
      "Validation loss decreased (0.806688 --> 0.806430).  Saving model ...\n",
      "Epoch 352, Train Loss: 0.7892, Validation Loss: 0.8061\n",
      "Validation loss decreased (0.806430 --> 0.806099).  Saving model ...\n",
      "Epoch 353, Train Loss: 0.7889, Validation Loss: 0.8058\n",
      "Validation loss decreased (0.806099 --> 0.805825).  Saving model ...\n",
      "Epoch 354, Train Loss: 0.7886, Validation Loss: 0.8055\n",
      "Validation loss decreased (0.805825 --> 0.805518).  Saving model ...\n",
      "Epoch 355, Train Loss: 0.7883, Validation Loss: 0.8052\n",
      "Validation loss decreased (0.805518 --> 0.805238).  Saving model ...\n",
      "Epoch 356, Train Loss: 0.7880, Validation Loss: 0.8049\n",
      "Validation loss decreased (0.805238 --> 0.804945).  Saving model ...\n",
      "Epoch 357, Train Loss: 0.7877, Validation Loss: 0.8047\n",
      "Validation loss decreased (0.804945 --> 0.804661).  Saving model ...\n",
      "Epoch 358, Train Loss: 0.7874, Validation Loss: 0.8044\n",
      "Validation loss decreased (0.804661 --> 0.804390).  Saving model ...\n",
      "Epoch 359, Train Loss: 0.7870, Validation Loss: 0.8042\n",
      "Validation loss decreased (0.804390 --> 0.804184).  Saving model ...\n",
      "Epoch 360, Train Loss: 0.7868, Validation Loss: 0.8038\n",
      "Validation loss decreased (0.804184 --> 0.803839).  Saving model ...\n",
      "Epoch 361, Train Loss: 0.7865, Validation Loss: 0.8036\n",
      "Validation loss decreased (0.803839 --> 0.803560).  Saving model ...\n",
      "Epoch 362, Train Loss: 0.7862, Validation Loss: 0.8033\n",
      "Validation loss decreased (0.803560 --> 0.803297).  Saving model ...\n",
      "Epoch 363, Train Loss: 0.7859, Validation Loss: 0.8030\n",
      "Validation loss decreased (0.803297 --> 0.803005).  Saving model ...\n",
      "Epoch 364, Train Loss: 0.7856, Validation Loss: 0.8027\n",
      "Validation loss decreased (0.803005 --> 0.802732).  Saving model ...\n",
      "Epoch 365, Train Loss: 0.7853, Validation Loss: 0.8025\n",
      "Validation loss decreased (0.802732 --> 0.802467).  Saving model ...\n",
      "Epoch 366, Train Loss: 0.7850, Validation Loss: 0.8022\n",
      "Validation loss decreased (0.802467 --> 0.802171).  Saving model ...\n",
      "Epoch 367, Train Loss: 0.7847, Validation Loss: 0.8020\n",
      "Validation loss decreased (0.802171 --> 0.801969).  Saving model ...\n",
      "Epoch 368, Train Loss: 0.7844, Validation Loss: 0.8017\n",
      "Validation loss decreased (0.801969 --> 0.801651).  Saving model ...\n",
      "Epoch 369, Train Loss: 0.7841, Validation Loss: 0.8014\n",
      "Validation loss decreased (0.801651 --> 0.801401).  Saving model ...\n",
      "Epoch 370, Train Loss: 0.7838, Validation Loss: 0.8011\n",
      "Validation loss decreased (0.801401 --> 0.801131).  Saving model ...\n",
      "Epoch 371, Train Loss: 0.7836, Validation Loss: 0.8008\n",
      "Validation loss decreased (0.801131 --> 0.800838).  Saving model ...\n",
      "Epoch 372, Train Loss: 0.7833, Validation Loss: 0.8007\n",
      "Validation loss decreased (0.800838 --> 0.800679).  Saving model ...\n",
      "Epoch 373, Train Loss: 0.7830, Validation Loss: 0.8003\n",
      "Validation loss decreased (0.800679 --> 0.800332).  Saving model ...\n",
      "Epoch 374, Train Loss: 0.7827, Validation Loss: 0.8001\n",
      "Validation loss decreased (0.800332 --> 0.800121).  Saving model ...\n",
      "Epoch 375, Train Loss: 0.7824, Validation Loss: 0.7998\n",
      "Validation loss decreased (0.800121 --> 0.799838).  Saving model ...\n",
      "Epoch 376, Train Loss: 0.7822, Validation Loss: 0.7995\n",
      "Validation loss decreased (0.799838 --> 0.799541).  Saving model ...\n",
      "Epoch 377, Train Loss: 0.7819, Validation Loss: 0.7993\n",
      "Validation loss decreased (0.799541 --> 0.799305).  Saving model ...\n",
      "Epoch 378, Train Loss: 0.7816, Validation Loss: 0.7990\n",
      "Validation loss decreased (0.799305 --> 0.799046).  Saving model ...\n",
      "Epoch 379, Train Loss: 0.7813, Validation Loss: 0.7988\n",
      "Validation loss decreased (0.799046 --> 0.798776).  Saving model ...\n",
      "Epoch 380, Train Loss: 0.7811, Validation Loss: 0.7985\n",
      "Validation loss decreased (0.798776 --> 0.798532).  Saving model ...\n",
      "Epoch 381, Train Loss: 0.7808, Validation Loss: 0.7983\n",
      "Validation loss decreased (0.798532 --> 0.798268).  Saving model ...\n",
      "Epoch 382, Train Loss: 0.7805, Validation Loss: 0.7980\n",
      "Validation loss decreased (0.798268 --> 0.798022).  Saving model ...\n",
      "Epoch 383, Train Loss: 0.7803, Validation Loss: 0.7978\n",
      "Validation loss decreased (0.798022 --> 0.797799).  Saving model ...\n",
      "Epoch 384, Train Loss: 0.7800, Validation Loss: 0.7977\n",
      "Validation loss decreased (0.797799 --> 0.797686).  Saving model ...\n",
      "Epoch 385, Train Loss: 0.7797, Validation Loss: 0.7973\n",
      "Validation loss decreased (0.797686 --> 0.797337).  Saving model ...\n",
      "Epoch 386, Train Loss: 0.7794, Validation Loss: 0.7971\n",
      "Validation loss decreased (0.797337 --> 0.797065).  Saving model ...\n",
      "Epoch 387, Train Loss: 0.7792, Validation Loss: 0.7968\n",
      "Validation loss decreased (0.797065 --> 0.796820).  Saving model ...\n",
      "Epoch 388, Train Loss: 0.7789, Validation Loss: 0.7966\n",
      "Validation loss decreased (0.796820 --> 0.796605).  Saving model ...\n",
      "Epoch 389, Train Loss: 0.7787, Validation Loss: 0.7964\n",
      "Validation loss decreased (0.796605 --> 0.796397).  Saving model ...\n",
      "Epoch 390, Train Loss: 0.7784, Validation Loss: 0.7962\n",
      "Validation loss decreased (0.796397 --> 0.796164).  Saving model ...\n",
      "Epoch 391, Train Loss: 0.7782, Validation Loss: 0.7959\n",
      "Validation loss decreased (0.796164 --> 0.795862).  Saving model ...\n",
      "Epoch 392, Train Loss: 0.7779, Validation Loss: 0.7956\n",
      "Validation loss decreased (0.795862 --> 0.795617).  Saving model ...\n",
      "Epoch 393, Train Loss: 0.7776, Validation Loss: 0.7954\n",
      "Validation loss decreased (0.795617 --> 0.795384).  Saving model ...\n",
      "Epoch 394, Train Loss: 0.7774, Validation Loss: 0.7952\n",
      "Validation loss decreased (0.795384 --> 0.795186).  Saving model ...\n",
      "Epoch 395, Train Loss: 0.7771, Validation Loss: 0.7949\n",
      "Validation loss decreased (0.795186 --> 0.794929).  Saving model ...\n",
      "Epoch 396, Train Loss: 0.7769, Validation Loss: 0.7947\n",
      "Validation loss decreased (0.794929 --> 0.794746).  Saving model ...\n",
      "Epoch 397, Train Loss: 0.7766, Validation Loss: 0.7945\n",
      "Validation loss decreased (0.794746 --> 0.794506).  Saving model ...\n",
      "Epoch 398, Train Loss: 0.7764, Validation Loss: 0.7943\n",
      "Validation loss decreased (0.794506 --> 0.794253).  Saving model ...\n",
      "Epoch 399, Train Loss: 0.7761, Validation Loss: 0.7940\n",
      "Validation loss decreased (0.794253 --> 0.794027).  Saving model ...\n",
      "Epoch 400, Train Loss: 0.7759, Validation Loss: 0.7938\n",
      "Validation loss decreased (0.794027 --> 0.793840).  Saving model ...\n"
     ]
    }
   ],
   "source": [
    "import torch.optim as optim\n",
    "\n",
    "criterion = nn.MSELoss()\n",
    "optimizer = optim.Adam(model.parameters(), lr=1e-6)\n",
    "def training(epochs):\n",
    "    loss_ = []\n",
    "    valoss_ = []\n",
    "\n",
    "    for epoch in range(epochs):\n",
    "        running_train_loss = 0.0\n",
    "        running_vall_loss = 0.0\n",
    "\n",
    "        # Training process\n",
    "        for data in trainloader:\n",
    "            model.train()\n",
    "            inputs = data                                                           # Assuming data is the input tensor\n",
    "            inputs = inputs.to(device)\n",
    "            optimizer.zero_grad()\n",
    "            predicted_outputs = model(inputs)\n",
    "            train_loss = criterion(predicted_outputs, inputs)\n",
    "            train_loss.backward()\n",
    "            optimizer.step()\n",
    "            running_train_loss += train_loss.item()\n",
    "\n",
    "        # Calculate average training loss for the epoch\n",
    "        avg_train_loss = running_train_loss / len(trainloader)\n",
    "        loss_.append(avg_train_loss)\n",
    "        \n",
    "        # Validation process\n",
    "        with torch.no_grad():\n",
    "            model.eval()\n",
    "            for data in validloader:\n",
    "                inputs = data\n",
    "                inputs = inputs.to(device)\n",
    "                predicted_outputs = model(inputs)\n",
    "                val_loss = criterion(predicted_outputs, inputs)\n",
    "                running_vall_loss += val_loss.item()\n",
    "\n",
    "            avg_val_loss = running_vall_loss / len(validloader)\n",
    "            valoss_.append(avg_val_loss)\n",
    "\n",
    "        print(f'Epoch {epoch + 1}, Train Loss: {avg_train_loss:.4f}, Validation Loss: {avg_val_loss:.4f}')\n",
    "        \n",
    "        # Early Stopping\n",
    "        early_stopping(avg_val_loss, model)\n",
    "        if early_stopping.early_stop:\n",
    "            print(\"Early stopping\")\n",
    "            break\n",
    "\n",
    "    # Save model\n",
    "    saveModel()\n",
    "    return loss_, valoss_  # Return the collected loss values for training and validation\n",
    "\n",
    "# Now when you call training, it will return the lists to be unpacked.\n",
    "loss_, valoss_ = training(epochs = 400)  # Set the appropriate number of epochs"
   ]
  },
  {
   "cell_type": "code",
   "execution_count": 14,
   "metadata": {},
   "outputs": [
    {
     "data": {
      "image/png": "[encoded data removed]",
      "text/plain": [
       "<Figure size 1000x500 with 1 Axes>"
      ]
     },
     "metadata": {},
     "output_type": "display_data"
    }
   ],
   "source": [
    "# Loss visualization\n",
    "plt.figure(figsize=(10, 5))\n",
    "plt.plot(loss_, label='Train Loss')\n",
    "plt.plot(valoss_, label='Validation Loss')\n",
    "plt.xlabel('Epochs')\n",
    "plt.ylabel('Loss')\n",
    "plt.legend()\n",
    "plt.show()"
   ]
  },
  {
   "cell_type": "markdown",
   "metadata": {},
   "source": [
    "#### 모델 불러오기"
   ]
  },
  {
   "cell_type": "code",
   "execution_count": 13,
   "metadata": {},
   "outputs": [
    {
     "data": {
      "text/plain": [
       "<All keys matched successfully>"
      ]
     },
     "execution_count": 13,
     "metadata": {},
     "output_type": "execute_result"
    }
   ],
   "source": [
    "model.load_state_dict(torch.load('ARL1_L2_075.pt', map_location=torch.device('cpu')))"
   ]
  },
  {
   "cell_type": "markdown",
   "metadata": {},
   "source": [
    "#### 학습 데이터로부터  잠재 벡터 추출"
   ]
  },
  {
   "cell_type": "code",
   "execution_count": 15,
   "metadata": {},
   "outputs": [
    {
     "data": {
      "text/plain": [
       "array([[-0.23496337,  0.00871948],\n",
       "       [ 0.13920484,  0.389845  ],\n",
       "       [-0.15989338, -0.59057796],\n",
       "       ...,\n",
       "       [ 0.6174739 ,  0.23601073],\n",
       "       [ 0.08803483,  0.12580305],\n",
       "       [-0.3756698 ,  0.21047288]], dtype=float32)"
      ]
     },
     "execution_count": 15,
     "metadata": {},
     "output_type": "execute_result"
    }
   ],
   "source": [
    "latent_vectors = []\n",
    "model.eval()\n",
    "with torch.no_grad():\n",
    "    for data in trainloader:\n",
    "        inputs = data.to(device)\n",
    "        latent_vec, _ = model.encoder(inputs)\n",
    "        latent_vectors.append(latent_vec.cpu().numpy())\n",
    "latent_vectors = np.concatenate(latent_vectors, axis=0)\n",
    "latent_vectors"
   ]
  },
  {
   "cell_type": "code",
   "execution_count": 16,
   "metadata": {},
   "outputs": [
    {
     "data": {
      "image/png": "[encoded data removed]",
      "text/plain": [
       "<Figure size 1400x600 with 2 Axes>"
      ]
     },
     "metadata": {},
     "output_type": "display_data"
    }
   ],
   "source": [
    "import seaborn as sns\n",
    "\n",
    "# 박스플롯 및 바이올린 플롯 그리기\n",
    "plt.figure(figsize=(14, 6))\n",
    "\n",
    "# 박스플롯\n",
    "plt.subplot(1, 2, 1)\n",
    "plt.boxplot(latent_vectors, vert=True, patch_artist=True)\n",
    "plt.xlabel('Latent Vector Dimensions')\n",
    "plt.ylabel('Values')\n",
    "plt.title('Boxplot of Latent Vectors')\n",
    "plt.grid(True)\n",
    "\n",
    "# 바이올린 플롯\n",
    "plt.subplot(1, 2, 2)\n",
    "sns.violinplot(data=latent_vectors, orient='v')\n",
    "plt.xlabel('Latent Vector Dimensions')\n",
    "plt.ylabel('Values')\n",
    "plt.title('Violin Plot of Latent Vectors')\n",
    "plt.grid(True)\n",
    "\n",
    "plt.tight_layout()\n",
    "plt.show()"
   ]
  },
  {
   "cell_type": "code",
   "execution_count": 17,
   "metadata": {},
   "outputs": [
    {
     "data": {
      "text/plain": [
       "array([0.59528935, 1.1171134 , 1.640708  , ..., 1.8233637 , 0.43230826,\n",
       "       1.1615583 ], dtype=float32)"
      ]
     },
     "execution_count": 17,
     "metadata": {},
     "output_type": "execute_result"
    }
   ],
   "source": [
    "def mahalanobis_distance(latent_vectors):\n",
    "    # 평균 벡터 계산\n",
    "    mean_vector = np.mean(latent_vectors, axis=0)\n",
    "    \n",
    "    # v_i 벡터 계산 (px1벡터)\n",
    "    v = latent_vectors[1:] - latent_vectors[:-1]\n",
    "    \n",
    "    # 공분산 행렬 계산\n",
    "    vvT = np.dot(v.T, v)\n",
    "    cov_matrix = (1 / 2) * (vvT / (latent_vectors.shape[0] - 1))\n",
    "    \n",
    "    # 공분산 행렬의 역행렬 계산\n",
    "    inv_cov_matrix = np.linalg.inv(cov_matrix)\n",
    "    \n",
    "    # Mahalanobis 거리 계산 함수\n",
    "    def calculate_distance(vector):\n",
    "        diff = vector - mean_vector\n",
    "        dist = np.sqrt(np.dot(np.dot(diff.T, inv_cov_matrix), diff))\n",
    "        return dist\n",
    "    \n",
    "    # 각 벡터에 대해 Mahalanobis 거리 계산\n",
    "    distances = np.apply_along_axis(calculate_distance, 1, latent_vectors)\n",
    "    \n",
    "    return distances\n",
    "\n",
    "# latent_vectors 배열에 대해 Mahalanobis 거리 계산\n",
    "distances = mahalanobis_distance(latent_vectors)\n",
    "distances"
   ]
  },
  {
   "cell_type": "code",
   "execution_count": 18,
   "metadata": {},
   "outputs": [
    {
     "data": {
      "image/png": "[encoded data removed]",
      "text/plain": [
       "<Figure size 1000x600 with 1 Axes>"
      ]
     },
     "metadata": {},
     "output_type": "display_data"
    }
   ],
   "source": [
    "plt.figure(figsize=(10,6))\n",
    "plt.plot(distances, 'o-', markersize=3)\n",
    "plt.xlabel('Sample Index')\n",
    "plt.ylabel('Latent Vector Value')\n",
    "plt.title('Latent Vectors from Training Data')\n",
    "plt.grid(True)\n",
    "plt.show()"
   ]
  },
  {
   "cell_type": "markdown",
   "metadata": {},
   "source": [
    "#### 다변량 정규성 검정"
   ]
  },
  {
   "cell_type": "code",
   "execution_count": 19,
   "metadata": {},
   "outputs": [
    {
     "name": "stdout",
     "output_type": "stream",
     "text": [
      "Mardia's Test 결과:\n",
      "Test Statistic (HZ): 8.638438947227268\n",
      "p-value: 3.4178979747538016e-23\n",
      "데이터는 다변량 정규성을 따르지 않습니다.\n"
     ]
    }
   ],
   "source": [
    "import pandas as pd\n",
    "import pingouin as pg\n",
    "\n",
    "# latent_vectors를 DataFrame으로 변환 (pingouin 사용을 위해)\n",
    "df = pd.DataFrame(latent_vectors)\n",
    "\n",
    "# Mardia's Test 수행\n",
    "mardia_test = pg.multivariate_normality(df, alpha = 0.05)\n",
    "\n",
    "# mardia_test는 튜플로 반환됩니다.\n",
    "hz_stat, p_value, normal = mardia_test\n",
    "\n",
    "# 결과 출력 및 해석\n",
    "print(\"Mardia's Test 결과:\")\n",
    "print(f\"Test Statistic (HZ): {hz_stat}\")\n",
    "print(f\"p-value: {p_value}\")\n",
    "\n",
    "if normal:\n",
    "    print(\"데이터는 다변량 정규성을 따릅니다.\")\n",
    "else:\n",
    "    print(\"데이터는 다변량 정규성을 따르지 않습니다.\")\n"
   ]
  },
  {
   "cell_type": "markdown",
   "metadata": {},
   "source": [
    "#### ARL0 구하기"
   ]
  },
  {
   "cell_type": "code",
   "execution_count": 20,
   "metadata": {},
   "outputs": [],
   "source": [
    "np.random.seed(1)\n",
    "\n",
    "l = 12\n",
    "\n",
    "# 관리상태 / 이상상태 데이터 생성 함수\n",
    "def argen(ar, delta, gamma, length):\n",
    "\n",
    "    e = np.random.normal(loc=0, scale = 1,size = length)\n",
    "    sigma = math.sqrt(1 / (1 - pow(ar, 2)))\n",
    "    x = np.array(np.repeat(0, length), dtype= np.float64)\n",
    "    x[0] = e[0]\n",
    "    z = np.array(np.repeat(0, length), dtype=np.float64)\n",
    "\n",
    "    for i in range(0,len(x)):\n",
    "        x[i] = ar * x[i - 1] + gamma*e[i]\n",
    "        z[i] = x[i]\n",
    "    for i in range(0,len(z)):\n",
    "        z[i] = z[i] + delta * sigma\n",
    "\n",
    "    return z"
   ]
  },
  {
   "cell_type": "code",
   "execution_count": 21,
   "metadata": {},
   "outputs": [],
   "source": [
    "# 관리 상태에서 공분산 행렬과 평균 벡터 계산\n",
    "def calculate_cov_mean(ar, run, length):\n",
    "    l = 12\n",
    "    delta = 0\n",
    "    gamma = 1\n",
    "    for i in tqdm(range(run)):\n",
    "        y = argen(ar=ar, delta=delta, gamma=gamma, length=length)\n",
    "        x = np.zeros(shape=(length - l, l))\n",
    "        for j in range(length - l):\n",
    "            x[j] = y[j: j + l]\n",
    "        x = torch.FloatTensor(x).to(device)\n",
    "        \n",
    "        latent_vectors = []\n",
    "        model.eval()\n",
    "        with torch.no_grad():\n",
    "            for j in range(0, len(x)):\n",
    "                input = x[[j]]\n",
    "                latent_vec, _ = model.encoder(input)\n",
    "                latent_vec_value = latent_vec.cpu().numpy()[0]\n",
    "                latent_vectors.append(latent_vec_value)\n",
    "        latent_vectors = np.array(latent_vectors)\n",
    "\n",
    "    mean_vector = np.mean(latent_vectors, axis=0)\n",
    "    v = latent_vectors[1:] - latent_vectors[:-1]\n",
    "    vvT = np.dot(v.T, v)\n",
    "    cov_matrix = (1 / 2) * (vvT / (latent_vectors.shape[0] - 1))\n",
    "    inv_cov_matrix = np.linalg.inv(cov_matrix)\n",
    "        \n",
    "    return latent_vectors, mean_vector, cov_matrix, inv_cov_matrix"
   ]
  },
  {
   "cell_type": "code",
   "execution_count": 22,
   "metadata": {},
   "outputs": [],
   "source": [
    "def arl_moving_window(ar, delta, gamma, run, mean_vector, inv_cov_matrix, cl):\n",
    "    rl = []\n",
    "    l = 12\n",
    "    for i in tqdm(range(run)):\n",
    "        # 초기 데이터 생성\n",
    "        y = argen(ar=ar, delta=delta, gamma=gamma, length=12)\n",
    "        \n",
    "        # 이동 윈도우 방식으로 ARL 계산\n",
    "        a = 0\n",
    "        model.eval()\n",
    "        \n",
    "        j = 1\n",
    "        with torch.no_grad():\n",
    "            while True:\n",
    "                # 새 데이터 포인트 생성 및 윈도우에 추가\n",
    "                new_point = argen(ar=ar, delta=delta, gamma=gamma, length=1)\n",
    "                y = np.append(y[1:], new_point)\n",
    "                \n",
    "                # 현재 윈도우의 데이터\n",
    "                x = torch.FloatTensor([y]).to(device)\n",
    "                \n",
    "                # Latent vector 추출\n",
    "                latent_vec, _ = model.encoder(x)\n",
    "                latent_vec_value = latent_vec.cpu().numpy()[0]\n",
    "                \n",
    "                # Mahalanobis 거리 계산\n",
    "                diff = latent_vec_value - mean_vector\n",
    "                mahalanobis_dist = np.sqrt(np.dot(np.dot(diff.T, inv_cov_matrix), diff))\n",
    "                \n",
    "                # 탐지 여부 확인\n",
    "                if mahalanobis_dist > cl:\n",
    "                    a = j + 1\n",
    "                    break\n",
    "\n",
    "                j += 1\n",
    "                \n",
    "            rl.append(a)\n",
    "        \n",
    "        arl = np.mean(rl)\n",
    "        \n",
    "    return arl, rl"
   ]
  },
  {
   "cell_type": "code",
   "execution_count": 94,
   "metadata": {},
   "outputs": [],
   "source": [
    "def arl(ar, delta, gamma, run, mean_vector, inv_cov_matrix, cl):\n",
    "    rl = []\n",
    "    l = 12\n",
    "    for i in tqdm(range(run)):\n",
    "        # 초기 데이터 생성\n",
    "        y = argen(ar=ar, delta=delta, gamma=gamma, length=12)\n",
    "        \n",
    "        # 이동 윈도우 방식으로 ARL 계산\n",
    "        a = 0\n",
    "        model.eval()\n",
    "        \n",
    "        j = 1\n",
    "        with torch.no_grad():\n",
    "            while True:\n",
    "                # 새 데이터 포인트 생성 및 윈도우에 추가\n",
    "                new_point = argen(ar=ar, delta=delta, gamma=gamma, length=1)\n",
    "                y = np.append(y[1:], new_point)\n",
    "                \n",
    "                # 현재 윈도우의 데이터\n",
    "                x = torch.FloatTensor([y]).to(device)\n",
    "                \n",
    "                # Latent vector 추출\n",
    "                latent_vec, _ = model.encoder(x)\n",
    "                latent_vec_value = latent_vec.cpu().numpy()[0]\n",
    "                \n",
    "                # Mahalanobis 거리 계산\n",
    "                diff = latent_vec_value - mean_vector\n",
    "                mahalanobis_dist = np.sqrt(np.dot(np.dot(diff.T, inv_cov_matrix), diff))\n",
    "                \n",
    "                # 탐지 여부 확인\n",
    "                if mahalanobis_dist > cl:\n",
    "                    a = j + 1\n",
    "                    break\n",
    "\n",
    "                j += 1\n",
    "                \n",
    "            rl.append(a)\n",
    "        \n",
    "        arl = np.mean(rl)\n",
    "        \n",
    "    return arl"
   ]
  },
  {
   "cell_type": "markdown",
   "metadata": {},
   "source": [
    "#### ARL1 구하기"
   ]
  },
  {
   "cell_type": "code",
   "execution_count": 95,
   "metadata": {},
   "outputs": [],
   "source": [
    "def arl1(ar, run, mean_vector, inv_cov_matrix, cl):\n",
    "    a5 = arl(ar, 0.5, 1, run, mean_vector, inv_cov_matrix, cl)\n",
    "    a1 = arl(ar, 1, 1, run, mean_vector, inv_cov_matrix, cl)\n",
    "    a2 = arl(ar, 2, 1, run, mean_vector, inv_cov_matrix, cl)\n",
    "    a3 = arl(ar, 3, 1, run, mean_vector, inv_cov_matrix, cl)\n",
    "    b5 = arl(ar, 0.5, 1.5, run, mean_vector, inv_cov_matrix, cl)\n",
    "    b1 = arl(ar, 1, 1.5, run, mean_vector, inv_cov_matrix, cl)\n",
    "    b2 = arl(ar, 2, 1.5, run, mean_vector, inv_cov_matrix, cl)\n",
    "    b3 = arl(ar, 3, 1, run, mean_vector, inv_cov_matrix, cl)\n",
    "    c1 = arl(ar, 0, 1.5, run, mean_vector, inv_cov_matrix, cl)\n",
    "    c2 = arl(ar, 0, 2, run, mean_vector, inv_cov_matrix, cl)\n",
    "    c3 = arl(ar, 0, 3, run, mean_vector, inv_cov_matrix, cl)\n",
    "    print(f'0.5: {a5}, 1:{a1},2:{a2},3:{a3}')\n",
    "    print(f'0.5:{b5},1:{b1},2:{b2},3:{b3}')\n",
    "    print(f'1.5:{c1},2:{c2},3:{c3}')"
   ]
  },
  {
   "cell_type": "markdown",
   "metadata": {},
   "source": [
    "#### phi = 0.75일 때"
   ]
  },
  {
   "cell_type": "markdown",
   "metadata": {},
   "source": [
    "##### ARL0 (threshold 임의추정)"
   ]
  },
  {
   "cell_type": "code",
   "execution_count": 25,
   "metadata": {},
   "outputs": [
    {
     "name": "stderr",
     "output_type": "stream",
     "text": [
      "100%|██████████| 10000/10000 [16:52<00:00,  9.88it/s]\n"
     ]
    }
   ],
   "source": [
    "# 관리 상태에서 잠재벡터, 평균벡터, 공분산 계산\n",
    "latent_vectors075, mean_vector075, cov_matrix075, inv_cov_matrix075 = calculate_cov_mean(ar = 0.75, run = 10000, length = 1000)"
   ]
  },
  {
   "cell_type": "code",
   "execution_count": 26,
   "metadata": {},
   "outputs": [
    {
     "data": {
      "image/png": "[encoded data removed]",
      "text/plain": [
       "<Figure size 1400x600 with 2 Axes>"
      ]
     },
     "metadata": {},
     "output_type": "display_data"
    }
   ],
   "source": [
    "# 잠재벡터 분포 확인\n",
    "import seaborn as sns\n",
    "\n",
    "# 박스플롯 및 바이올린 플롯 그리기\n",
    "plt.figure(figsize=(14, 6))\n",
    "\n",
    "# 박스플롯\n",
    "plt.subplot(1, 2, 1)\n",
    "plt.boxplot(latent_vectors075, vert=True, patch_artist=True)\n",
    "plt.xlabel('Latent Vector Dimensions')\n",
    "plt.ylabel('Values')\n",
    "plt.title('Boxplot of Latent Vectors')\n",
    "plt.grid(True)\n",
    "\n",
    "# 바이올린 플롯\n",
    "plt.subplot(1, 2, 2)\n",
    "sns.violinplot(data=latent_vectors075, orient='v')\n",
    "plt.xlabel('Latent Vector Dimensions')\n",
    "plt.ylabel('Values')\n",
    "plt.title('Violin Plot of Latent Vectors')\n",
    "plt.grid(True)\n",
    "\n",
    "plt.tight_layout()\n",
    "plt.show()"
   ]
  },
  {
   "cell_type": "code",
   "execution_count": 27,
   "metadata": {},
   "outputs": [
    {
     "data": {
      "text/plain": [
       "array([-0.00720158,  0.02088952], dtype=float32)"
      ]
     },
     "execution_count": 27,
     "metadata": {},
     "output_type": "execute_result"
    }
   ],
   "source": [
    "mean_vector075"
   ]
  },
  {
   "cell_type": "code",
   "execution_count": 28,
   "metadata": {},
   "outputs": [
    {
     "data": {
      "text/plain": [
       "array([[ 0.00591754, -0.00302068],\n",
       "       [-0.00302068,  0.00540847]], dtype=float32)"
      ]
     },
     "execution_count": 28,
     "metadata": {},
     "output_type": "execute_result"
    }
   ],
   "source": [
    "cov_matrix075"
   ]
  },
  {
   "cell_type": "code",
   "execution_count": 29,
   "metadata": {},
   "outputs": [
    {
     "data": {
      "text/plain": [
       "array([[236.38069, 132.02083],\n",
       "       [132.02083, 258.63007]], dtype=float32)"
      ]
     },
     "execution_count": 29,
     "metadata": {},
     "output_type": "execute_result"
    }
   ],
   "source": [
    "inv_cov_matrix075"
   ]
  },
  {
   "cell_type": "code",
   "execution_count": 31,
   "metadata": {},
   "outputs": [
    {
     "name": "stderr",
     "output_type": "stream",
     "text": [
      "100%|██████████| 10000/10000 [1:01:11<00:00,  2.72it/s]\n"
     ]
    },
    {
     "data": {
      "text/plain": [
       "3597.1677"
      ]
     },
     "execution_count": 31,
     "metadata": {},
     "output_type": "execute_result"
    }
   ],
   "source": [
    "arl, rl = arl_moving_window(ar = 0.75, delta = 0, gamma = 1, run = 10000, mean_vector = mean_vector075, inv_cov_matrix = inv_cov_matrix075, cl = 15.1)\n",
    "arl"
   ]
  },
  {
   "cell_type": "code",
   "execution_count": 32,
   "metadata": {},
   "outputs": [
    {
     "name": "stderr",
     "output_type": "stream",
     "text": [
      "100%|██████████| 10000/10000 [02:32<00:00, 65.78it/s]\n"
     ]
    },
    {
     "data": {
      "text/plain": [
       "136.6433"
      ]
     },
     "execution_count": 32,
     "metadata": {},
     "output_type": "execute_result"
    }
   ],
   "source": [
    "arl, rl = arl_moving_window(ar = 0.75, delta = 0, gamma = 1, run = 10000, mean_vector = mean_vector075, inv_cov_matrix = inv_cov_matrix075, cl = 10)\n",
    "arl"
   ]
  },
  {
   "cell_type": "code",
   "execution_count": 33,
   "metadata": {},
   "outputs": [
    {
     "name": "stderr",
     "output_type": "stream",
     "text": [
      "100%|██████████| 10000/10000 [07:26<00:00, 22.38it/s]\n"
     ]
    },
    {
     "data": {
      "text/plain": [
       "408.5844"
      ]
     },
     "execution_count": 33,
     "metadata": {},
     "output_type": "execute_result"
    }
   ],
   "source": [
    "arl, rl = arl_moving_window(ar = 0.75, delta = 0, gamma = 1, run = 10000, mean_vector = mean_vector075, inv_cov_matrix = inv_cov_matrix075, cl = 12)\n",
    "arl"
   ]
  },
  {
   "cell_type": "code",
   "execution_count": 34,
   "metadata": {},
   "outputs": [
    {
     "name": "stderr",
     "output_type": "stream",
     "text": [
      "100%|██████████| 10000/10000 [05:40<00:00, 29.34it/s]\n"
     ]
    },
    {
     "data": {
      "text/plain": [
       "309.3941"
      ]
     },
     "execution_count": 34,
     "metadata": {},
     "output_type": "execute_result"
    }
   ],
   "source": [
    "arl, rl = arl_moving_window(ar = 0.75, delta = 0, gamma = 1, run = 10000, mean_vector = mean_vector075, inv_cov_matrix = inv_cov_matrix075, cl = 11.5)\n",
    "arl"
   ]
  },
  {
   "cell_type": "code",
   "execution_count": 35,
   "metadata": {},
   "outputs": [
    {
     "name": "stderr",
     "output_type": "stream",
     "text": [
      "100%|██████████| 10000/10000 [06:41<00:00, 24.91it/s]\n"
     ]
    },
    {
     "data": {
      "text/plain": [
       "367.0474"
      ]
     },
     "execution_count": 35,
     "metadata": {},
     "output_type": "execute_result"
    }
   ],
   "source": [
    "arl, rl = arl_moving_window(ar = 0.75, delta = 0, gamma = 1, run = 10000, mean_vector = mean_vector075, inv_cov_matrix = inv_cov_matrix075, cl = 11.8)\n",
    "arl"
   ]
  },
  {
   "cell_type": "code",
   "execution_count": 36,
   "metadata": {},
   "outputs": [
    {
     "name": "stderr",
     "output_type": "stream",
     "text": [
      "100%|██████████| 10000/10000 [06:47<00:00, 24.53it/s]\n"
     ]
    },
    {
     "data": {
      "text/plain": [
       "369.416"
      ]
     },
     "execution_count": 36,
     "metadata": {},
     "output_type": "execute_result"
    }
   ],
   "source": [
    "arl, rl = arl_moving_window(ar = 0.75, delta = 0, gamma = 1, run = 10000, mean_vector = mean_vector075, inv_cov_matrix = inv_cov_matrix075, cl = 11.85)\n",
    "arl"
   ]
  },
  {
   "cell_type": "code",
   "execution_count": 37,
   "metadata": {},
   "outputs": [
    {
     "name": "stderr",
     "output_type": "stream",
     "text": [
      "100%|██████████| 10000/10000 [06:50<00:00, 24.37it/s]\n"
     ]
    },
    {
     "data": {
      "text/plain": [
       "378.95"
      ]
     },
     "execution_count": 37,
     "metadata": {},
     "output_type": "execute_result"
    }
   ],
   "source": [
    "arl, rl = arl_moving_window(ar = 0.75, delta = 0, gamma = 1, run = 10000, mean_vector = mean_vector075, inv_cov_matrix = inv_cov_matrix075, cl = 11.86)\n",
    "arl"
   ]
  },
  {
   "cell_type": "code",
   "execution_count": 38,
   "metadata": {},
   "outputs": [
    {
     "name": "stderr",
     "output_type": "stream",
     "text": [
      "100%|██████████| 10000/10000 [06:47<00:00, 24.51it/s]\n"
     ]
    },
    {
     "data": {
      "text/plain": [
       "371.7677"
      ]
     },
     "execution_count": 38,
     "metadata": {},
     "output_type": "execute_result"
    }
   ],
   "source": [
    "arl, rl = arl_moving_window(ar = 0.75, delta = 0, gamma = 1, run = 10000, mean_vector = mean_vector075, inv_cov_matrix = inv_cov_matrix075, cl = 11.855)\n",
    "arl"
   ]
  },
  {
   "cell_type": "code",
   "execution_count": 39,
   "metadata": {},
   "outputs": [
    {
     "name": "stderr",
     "output_type": "stream",
     "text": [
      "100%|██████████| 10000/10000 [06:47<00:00, 24.53it/s]\n"
     ]
    },
    {
     "data": {
      "text/plain": [
       "374.7399"
      ]
     },
     "execution_count": 39,
     "metadata": {},
     "output_type": "execute_result"
    }
   ],
   "source": [
    "arl, rl = arl_moving_window(ar = 0.75, delta = 0, gamma = 1, run = 10000, mean_vector = mean_vector075, inv_cov_matrix = inv_cov_matrix075, cl = 11.855)\n",
    "arl"
   ]
  },
  {
   "cell_type": "code",
   "execution_count": 43,
   "metadata": {},
   "outputs": [
    {
     "name": "stderr",
     "output_type": "stream",
     "text": [
      "100%|██████████| 10000/10000 [06:55<00:00, 24.05it/s]\n"
     ]
    },
    {
     "data": {
      "text/plain": [
       "381.8651"
      ]
     },
     "execution_count": 43,
     "metadata": {},
     "output_type": "execute_result"
    }
   ],
   "source": [
    "arl, rl = arl_moving_window(ar = 0.75, delta = 0, gamma = 1, run = 10000, mean_vector = mean_vector075, inv_cov_matrix = inv_cov_matrix075, cl = 11.853)\n",
    "arl"
   ]
  },
  {
   "cell_type": "code",
   "execution_count": 44,
   "metadata": {},
   "outputs": [
    {
     "name": "stderr",
     "output_type": "stream",
     "text": [
      "100%|██████████| 10000/10000 [06:54<00:00, 24.13it/s]\n"
     ]
    },
    {
     "data": {
      "text/plain": [
       "378.488"
      ]
     },
     "execution_count": 44,
     "metadata": {},
     "output_type": "execute_result"
    }
   ],
   "source": [
    "arl, rl = arl_moving_window(ar = 0.75, delta = 0, gamma = 1, run = 10000, mean_vector = mean_vector075, inv_cov_matrix = inv_cov_matrix075, cl = 11.852)\n",
    "arl"
   ]
  },
  {
   "cell_type": "code",
   "execution_count": 45,
   "metadata": {},
   "outputs": [
    {
     "name": "stderr",
     "output_type": "stream",
     "text": [
      "100%|██████████| 10000/10000 [06:43<00:00, 24.76it/s]\n"
     ]
    },
    {
     "data": {
      "text/plain": [
       "376.0275"
      ]
     },
     "execution_count": 45,
     "metadata": {},
     "output_type": "execute_result"
    }
   ],
   "source": [
    "arl, rl = arl_moving_window(ar = 0.75, delta = 0, gamma = 1, run = 10000, mean_vector = mean_vector075, inv_cov_matrix = inv_cov_matrix075, cl = 11.85)\n",
    "arl"
   ]
  },
  {
   "cell_type": "code",
   "execution_count": 46,
   "metadata": {},
   "outputs": [
    {
     "name": "stderr",
     "output_type": "stream",
     "text": [
      "100%|██████████| 10000/10000 [06:24<00:00, 25.98it/s]\n"
     ]
    },
    {
     "data": {
      "text/plain": [
       "370.3494"
      ]
     },
     "execution_count": 46,
     "metadata": {},
     "output_type": "execute_result"
    }
   ],
   "source": [
    "arl, rl = arl_moving_window(ar = 0.75, delta = 0, gamma = 1, run = 10000, mean_vector = mean_vector075, inv_cov_matrix = inv_cov_matrix075, cl = 11.83)\n",
    "arl"
   ]
  },
  {
   "cell_type": "code",
   "execution_count": 47,
   "metadata": {},
   "outputs": [
    {
     "name": "stderr",
     "output_type": "stream",
     "text": [
      "100%|██████████| 10000/10000 [06:18<00:00, 26.43it/s]\n"
     ]
    },
    {
     "data": {
      "text/plain": [
       "369.0961"
      ]
     },
     "execution_count": 47,
     "metadata": {},
     "output_type": "execute_result"
    }
   ],
   "source": [
    "arl, rl = arl_moving_window(ar = 0.75, delta = 0, gamma = 1, run = 10000, mean_vector = mean_vector075, inv_cov_matrix = inv_cov_matrix075, cl = 11.832)\n",
    "arl"
   ]
  },
  {
   "cell_type": "code",
   "execution_count": 48,
   "metadata": {},
   "outputs": [
    {
     "name": "stderr",
     "output_type": "stream",
     "text": [
      "100%|██████████| 10000/10000 [06:28<00:00, 25.72it/s]\n"
     ]
    },
    {
     "data": {
      "text/plain": [
       "376.4489"
      ]
     },
     "execution_count": 48,
     "metadata": {},
     "output_type": "execute_result"
    }
   ],
   "source": [
    "arl, rl = arl_moving_window(ar = 0.75, delta = 0, gamma = 1, run = 10000, mean_vector = mean_vector075, inv_cov_matrix = inv_cov_matrix075, cl = 11.835)\n",
    "arl"
   ]
  },
  {
   "cell_type": "code",
   "execution_count": 49,
   "metadata": {},
   "outputs": [
    {
     "name": "stderr",
     "output_type": "stream",
     "text": [
      "100%|██████████| 10000/10000 [06:03<00:00, 27.51it/s]\n"
     ]
    },
    {
     "data": {
      "text/plain": [
       "366.9558"
      ]
     },
     "execution_count": 49,
     "metadata": {},
     "output_type": "execute_result"
    }
   ],
   "source": [
    "arl, rl = arl_moving_window(ar = 0.75, delta = 0, gamma = 1, run = 10000, mean_vector = mean_vector075, inv_cov_matrix = inv_cov_matrix075, cl = 11.833)\n",
    "arl"
   ]
  },
  {
   "cell_type": "code",
   "execution_count": 50,
   "metadata": {},
   "outputs": [
    {
     "name": "stderr",
     "output_type": "stream",
     "text": [
      "100%|██████████| 10000/10000 [06:09<00:00, 27.08it/s]\n"
     ]
    },
    {
     "data": {
      "text/plain": [
       "372.2613"
      ]
     },
     "execution_count": 50,
     "metadata": {},
     "output_type": "execute_result"
    }
   ],
   "source": [
    "arl, rl = arl_moving_window(ar = 0.75, delta = 0, gamma = 1, run = 10000, mean_vector = mean_vector075, inv_cov_matrix = inv_cov_matrix075, cl = 11.834)\n",
    "arl"
   ]
  },
  {
   "cell_type": "code",
   "execution_count": 54,
   "metadata": {},
   "outputs": [
    {
     "name": "stderr",
     "output_type": "stream",
     "text": [
      "100%|██████████| 10000/10000 [06:06<00:00, 27.27it/s]\n"
     ]
    },
    {
     "data": {
      "text/plain": [
       "368.1952"
      ]
     },
     "execution_count": 54,
     "metadata": {},
     "output_type": "execute_result"
    }
   ],
   "source": [
    "arl, rl = arl_moving_window(ar = 0.75, delta = 0, gamma = 1, run = 10000, mean_vector = mean_vector075, inv_cov_matrix = inv_cov_matrix075, cl = 11.834)\n",
    "arl"
   ]
  },
  {
   "cell_type": "code",
   "execution_count": 55,
   "metadata": {},
   "outputs": [
    {
     "name": "stderr",
     "output_type": "stream",
     "text": [
      "100%|██████████| 10000/10000 [06:09<00:00, 27.03it/s]\n"
     ]
    },
    {
     "data": {
      "text/plain": [
       "372.791"
      ]
     },
     "execution_count": 55,
     "metadata": {},
     "output_type": "execute_result"
    }
   ],
   "source": [
    "arl, rl = arl_moving_window(ar = 0.75, delta = 0, gamma = 1, run = 10000, mean_vector = mean_vector075, inv_cov_matrix = inv_cov_matrix075, cl = 11.8345)\n",
    "arl"
   ]
  },
  {
   "cell_type": "code",
   "execution_count": 56,
   "metadata": {},
   "outputs": [
    {
     "name": "stderr",
     "output_type": "stream",
     "text": [
      "100%|██████████| 10000/10000 [06:04<00:00, 27.42it/s]\n"
     ]
    },
    {
     "data": {
      "text/plain": [
       "368.4018"
      ]
     },
     "execution_count": 56,
     "metadata": {},
     "output_type": "execute_result"
    }
   ],
   "source": [
    "arl, rl = arl_moving_window(ar = 0.75, delta = 0, gamma = 1, run = 10000, mean_vector = mean_vector075, inv_cov_matrix = inv_cov_matrix075, cl = 11.8343)\n",
    "arl"
   ]
  },
  {
   "cell_type": "code",
   "execution_count": 57,
   "metadata": {},
   "outputs": [
    {
     "name": "stderr",
     "output_type": "stream",
     "text": [
      "100%|██████████| 10000/10000 [06:01<00:00, 27.64it/s]\n"
     ]
    },
    {
     "data": {
      "text/plain": [
       "364.6514"
      ]
     },
     "execution_count": 57,
     "metadata": {},
     "output_type": "execute_result"
    }
   ],
   "source": [
    "arl, rl = arl_moving_window(ar = 0.75, delta = 0, gamma = 1, run = 10000, mean_vector = mean_vector075, inv_cov_matrix = inv_cov_matrix075, cl = 11.8344)\n",
    "arl"
   ]
  },
  {
   "cell_type": "code",
   "execution_count": 58,
   "metadata": {},
   "outputs": [
    {
     "name": "stderr",
     "output_type": "stream",
     "text": [
      "100%|██████████| 10000/10000 [06:04<00:00, 27.46it/s]\n"
     ]
    },
    {
     "data": {
      "text/plain": [
       "367.367"
      ]
     },
     "execution_count": 58,
     "metadata": {},
     "output_type": "execute_result"
    }
   ],
   "source": [
    "arl, rl = arl_moving_window(ar = 0.75, delta = 0, gamma = 1, run = 10000, mean_vector = mean_vector075, inv_cov_matrix = inv_cov_matrix075, cl = 11.8345)\n",
    "arl"
   ]
  },
  {
   "cell_type": "code",
   "execution_count": 59,
   "metadata": {},
   "outputs": [
    {
     "name": "stderr",
     "output_type": "stream",
     "text": [
      "100%|██████████| 10000/10000 [06:03<00:00, 27.51it/s]\n"
     ]
    },
    {
     "data": {
      "text/plain": [
       "366.8312"
      ]
     },
     "execution_count": 59,
     "metadata": {},
     "output_type": "execute_result"
    }
   ],
   "source": [
    "arl, rl = arl_moving_window(ar = 0.75, delta = 0, gamma = 1, run = 10000, mean_vector = mean_vector075, inv_cov_matrix = inv_cov_matrix075, cl = 11.8348)\n",
    "arl"
   ]
  },
  {
   "cell_type": "code",
   "execution_count": 60,
   "metadata": {},
   "outputs": [
    {
     "name": "stderr",
     "output_type": "stream",
     "text": [
      "100%|██████████| 10000/10000 [06:14<00:00, 26.74it/s]\n"
     ]
    },
    {
     "data": {
      "text/plain": [
       "378.0798"
      ]
     },
     "execution_count": 60,
     "metadata": {},
     "output_type": "execute_result"
    }
   ],
   "source": [
    "arl, rl = arl_moving_window(ar = 0.75, delta = 0, gamma = 1, run = 10000, mean_vector = mean_vector075, inv_cov_matrix = inv_cov_matrix075, cl = 11.835)\n",
    "arl"
   ]
  },
  {
   "cell_type": "code",
   "execution_count": 61,
   "metadata": {},
   "outputs": [
    {
     "name": "stderr",
     "output_type": "stream",
     "text": [
      "100%|██████████| 10000/10000 [06:08<00:00, 27.16it/s]\n"
     ]
    },
    {
     "data": {
      "text/plain": [
       "373.0208"
      ]
     },
     "execution_count": 61,
     "metadata": {},
     "output_type": "execute_result"
    }
   ],
   "source": [
    "arl, rl = arl_moving_window(ar = 0.75, delta = 0, gamma = 1, run = 10000, mean_vector = mean_vector075, inv_cov_matrix = inv_cov_matrix075, cl = 11.8349)\n",
    "arl"
   ]
  },
  {
   "cell_type": "code",
   "execution_count": 62,
   "metadata": {},
   "outputs": [
    {
     "name": "stderr",
     "output_type": "stream",
     "text": [
      "100%|██████████| 10000/10000 [06:06<00:00, 27.32it/s]\n"
     ]
    },
    {
     "data": {
      "text/plain": [
       "369.9175"
      ]
     },
     "execution_count": 62,
     "metadata": {},
     "output_type": "execute_result"
    }
   ],
   "source": [
    "arl, rl = arl_moving_window(ar = 0.75, delta = 0, gamma = 1, run = 10000, mean_vector = mean_vector075, inv_cov_matrix = inv_cov_matrix075, cl = 11.83485)\n",
    "arl"
   ]
  },
  {
   "cell_type": "code",
   "execution_count": 63,
   "metadata": {},
   "outputs": [
    {
     "name": "stderr",
     "output_type": "stream",
     "text": [
      "100%|██████████| 10000/10000 [06:10<00:00, 26.95it/s]\n"
     ]
    },
    {
     "data": {
      "text/plain": [
       "374.8641"
      ]
     },
     "execution_count": 63,
     "metadata": {},
     "output_type": "execute_result"
    }
   ],
   "source": [
    "arl, rl = arl_moving_window(ar = 0.75, delta = 0, gamma = 1, run = 10000, mean_vector = mean_vector075, inv_cov_matrix = inv_cov_matrix075, cl = 11.83488)\n",
    "arl"
   ]
  },
  {
   "cell_type": "code",
   "execution_count": 64,
   "metadata": {},
   "outputs": [
    {
     "name": "stderr",
     "output_type": "stream",
     "text": [
      "100%|██████████| 10000/10000 [06:10<00:00, 26.99it/s]\n"
     ]
    },
    {
     "data": {
      "text/plain": [
       "373.9463"
      ]
     },
     "execution_count": 64,
     "metadata": {},
     "output_type": "execute_result"
    }
   ],
   "source": [
    "arl, rl = arl_moving_window(ar = 0.75, delta = 0, gamma = 1, run = 10000, mean_vector = mean_vector075, inv_cov_matrix = inv_cov_matrix075, cl = 11.83486)\n",
    "arl"
   ]
  },
  {
   "cell_type": "code",
   "execution_count": 65,
   "metadata": {},
   "outputs": [
    {
     "name": "stderr",
     "output_type": "stream",
     "text": [
      "100%|██████████| 10000/10000 [06:08<00:00, 27.10it/s]\n"
     ]
    },
    {
     "data": {
      "text/plain": [
       "373.3439"
      ]
     },
     "execution_count": 65,
     "metadata": {},
     "output_type": "execute_result"
    }
   ],
   "source": [
    "arl, rl = arl_moving_window(ar = 0.75, delta = 0, gamma = 1, run = 10000, mean_vector = mean_vector075, inv_cov_matrix = inv_cov_matrix075, cl = 11.83485)\n",
    "arl"
   ]
  },
  {
   "cell_type": "code",
   "execution_count": 66,
   "metadata": {},
   "outputs": [
    {
     "name": "stderr",
     "output_type": "stream",
     "text": [
      "100%|██████████| 10000/10000 [06:05<00:00, 27.38it/s]\n"
     ]
    },
    {
     "data": {
      "text/plain": [
       "368.2891"
      ]
     },
     "execution_count": 66,
     "metadata": {},
     "output_type": "execute_result"
    }
   ],
   "source": [
    "arl, rl = arl_moving_window(ar = 0.75, delta = 0, gamma = 1, run = 10000, mean_vector = mean_vector075, inv_cov_matrix = inv_cov_matrix075, cl = 11.83482)\n",
    "arl"
   ]
  },
  {
   "cell_type": "code",
   "execution_count": 67,
   "metadata": {},
   "outputs": [
    {
     "name": "stderr",
     "output_type": "stream",
     "text": [
      "100%|██████████| 10000/10000 [06:01<00:00, 27.69it/s]\n"
     ]
    },
    {
     "data": {
      "text/plain": [
       "365.0959"
      ]
     },
     "execution_count": 67,
     "metadata": {},
     "output_type": "execute_result"
    }
   ],
   "source": [
    "arl, rl = arl_moving_window(ar = 0.75, delta = 0, gamma = 1, run = 10000, mean_vector = mean_vector075, inv_cov_matrix = inv_cov_matrix075, cl = 11.83484)\n",
    "arl"
   ]
  },
  {
   "cell_type": "code",
   "execution_count": 69,
   "metadata": {},
   "outputs": [
    {
     "name": "stderr",
     "output_type": "stream",
     "text": [
      "100%|██████████| 10000/10000 [06:04<00:00, 27.47it/s]\n"
     ]
    },
    {
     "data": {
      "text/plain": [
       "367.0912"
      ]
     },
     "execution_count": 69,
     "metadata": {},
     "output_type": "execute_result"
    }
   ],
   "source": [
    "arl, rl = arl_moving_window(ar = 0.75, delta = 0, gamma = 1, run = 10000, mean_vector = mean_vector075, inv_cov_matrix = inv_cov_matrix075, cl = 11.83487)\n",
    "arl"
   ]
  },
  {
   "cell_type": "code",
   "execution_count": 71,
   "metadata": {},
   "outputs": [
    {
     "name": "stderr",
     "output_type": "stream",
     "text": [
      "100%|██████████| 10000/10000 [06:12<00:00, 26.86it/s]\n"
     ]
    },
    {
     "data": {
      "text/plain": [
       "374.3422"
      ]
     },
     "execution_count": 71,
     "metadata": {},
     "output_type": "execute_result"
    }
   ],
   "source": [
    "arl, rl = arl_moving_window(ar = 0.75, delta = 0, gamma = 1, run = 10000, mean_vector = mean_vector075, inv_cov_matrix = inv_cov_matrix075, cl = 11.8349)\n",
    "arl"
   ]
  },
  {
   "cell_type": "code",
   "execution_count": 72,
   "metadata": {},
   "outputs": [
    {
     "name": "stderr",
     "output_type": "stream",
     "text": [
      "100%|██████████| 10000/10000 [06:04<00:00, 27.42it/s]\n"
     ]
    },
    {
     "data": {
      "text/plain": [
       "367.9669"
      ]
     },
     "execution_count": 72,
     "metadata": {},
     "output_type": "execute_result"
    }
   ],
   "source": [
    "arl, rl = arl_moving_window(ar = 0.75, delta = 0, gamma = 1, run = 10000, mean_vector = mean_vector075, inv_cov_matrix = inv_cov_matrix075, cl = 11.83488)\n",
    "arl"
   ]
  },
  {
   "cell_type": "code",
   "execution_count": 73,
   "metadata": {},
   "outputs": [
    {
     "name": "stderr",
     "output_type": "stream",
     "text": [
      "100%|██████████| 10000/10000 [06:09<00:00, 27.03it/s]\n"
     ]
    },
    {
     "data": {
      "text/plain": [
       "373.3346"
      ]
     },
     "execution_count": 73,
     "metadata": {},
     "output_type": "execute_result"
    }
   ],
   "source": [
    "arl, rl = arl_moving_window(ar = 0.75, delta = 0, gamma = 1, run = 10000, mean_vector = mean_vector075, inv_cov_matrix = inv_cov_matrix075, cl = 11.83489)\n",
    "arl"
   ]
  },
  {
   "cell_type": "code",
   "execution_count": 74,
   "metadata": {},
   "outputs": [
    {
     "name": "stderr",
     "output_type": "stream",
     "text": [
      "100%|██████████| 10000/10000 [06:11<00:00, 26.90it/s]\n"
     ]
    },
    {
     "data": {
      "text/plain": [
       "375.8631"
      ]
     },
     "execution_count": 74,
     "metadata": {},
     "output_type": "execute_result"
    }
   ],
   "source": [
    "arl, rl = arl_moving_window(ar = 0.75, delta = 0, gamma = 1, run = 10000, mean_vector = mean_vector075, inv_cov_matrix = inv_cov_matrix075, cl = 11.83488)\n",
    "arl"
   ]
  },
  {
   "cell_type": "code",
   "execution_count": 75,
   "metadata": {},
   "outputs": [
    {
     "name": "stderr",
     "output_type": "stream",
     "text": [
      "100%|██████████| 10000/10000 [06:03<00:00, 27.51it/s]\n"
     ]
    },
    {
     "data": {
      "text/plain": [
       "367.1516"
      ]
     },
     "execution_count": 75,
     "metadata": {},
     "output_type": "execute_result"
    }
   ],
   "source": [
    "arl, rl = arl_moving_window(ar = 0.75, delta = 0, gamma = 1, run = 10000, mean_vector = mean_vector075, inv_cov_matrix = inv_cov_matrix075, cl = 11.83487)\n",
    "arl"
   ]
  },
  {
   "cell_type": "code",
   "execution_count": 76,
   "metadata": {},
   "outputs": [
    {
     "name": "stderr",
     "output_type": "stream",
     "text": [
      "100%|██████████| 10000/10000 [06:03<00:00, 27.50it/s]\n"
     ]
    },
    {
     "data": {
      "text/plain": [
       "366.7792"
      ]
     },
     "execution_count": 76,
     "metadata": {},
     "output_type": "execute_result"
    }
   ],
   "source": [
    "arl, rl = arl_moving_window(ar = 0.75, delta = 0, gamma = 1, run = 10000, mean_vector = mean_vector075, inv_cov_matrix = inv_cov_matrix075, cl = 11.8345)\n",
    "arl"
   ]
  },
  {
   "cell_type": "code",
   "execution_count": 77,
   "metadata": {},
   "outputs": [
    {
     "name": "stderr",
     "output_type": "stream",
     "text": [
      "100%|██████████| 10000/10000 [06:03<00:00, 27.55it/s]\n"
     ]
    },
    {
     "data": {
      "text/plain": [
       "365.6162"
      ]
     },
     "execution_count": 77,
     "metadata": {},
     "output_type": "execute_result"
    }
   ],
   "source": [
    "arl, rl = arl_moving_window(ar = 0.75, delta = 0, gamma = 1, run = 10000, mean_vector = mean_vector075, inv_cov_matrix = inv_cov_matrix075, cl = 11.83)\n",
    "arl"
   ]
  },
  {
   "cell_type": "code",
   "execution_count": 78,
   "metadata": {},
   "outputs": [
    {
     "name": "stderr",
     "output_type": "stream",
     "text": [
      "100%|██████████| 10000/10000 [06:16<00:00, 26.53it/s]\n"
     ]
    },
    {
     "data": {
      "text/plain": [
       "380.0526"
      ]
     },
     "execution_count": 78,
     "metadata": {},
     "output_type": "execute_result"
    }
   ],
   "source": [
    "arl, rl = arl_moving_window(ar = 0.75, delta = 0, gamma = 1, run = 10000, mean_vector = mean_vector075, inv_cov_matrix = inv_cov_matrix075, cl = 11.84)\n",
    "arl"
   ]
  },
  {
   "cell_type": "code",
   "execution_count": 79,
   "metadata": {},
   "outputs": [
    {
     "name": "stderr",
     "output_type": "stream",
     "text": [
      "100%|██████████| 10000/10000 [06:11<00:00, 26.92it/s]\n"
     ]
    },
    {
     "data": {
      "text/plain": [
       "374.7226"
      ]
     },
     "execution_count": 79,
     "metadata": {},
     "output_type": "execute_result"
    }
   ],
   "source": [
    "arl, rl = arl_moving_window(ar = 0.75, delta = 0, gamma = 1, run = 10000, mean_vector = mean_vector075, inv_cov_matrix = inv_cov_matrix075, cl = 11.835)\n",
    "arl"
   ]
  },
  {
   "cell_type": "code",
   "execution_count": 80,
   "metadata": {},
   "outputs": [
    {
     "name": "stderr",
     "output_type": "stream",
     "text": [
      "100%|██████████| 10000/10000 [06:08<00:00, 27.11it/s]\n"
     ]
    },
    {
     "data": {
      "text/plain": [
       "372.2405"
      ]
     },
     "execution_count": 80,
     "metadata": {},
     "output_type": "execute_result"
    }
   ],
   "source": [
    "arl, rl = arl_moving_window(ar = 0.75, delta = 0, gamma = 1, run = 10000, mean_vector = mean_vector075, inv_cov_matrix = inv_cov_matrix075, cl = 11.833)\n",
    "arl"
   ]
  },
  {
   "cell_type": "code",
   "execution_count": 81,
   "metadata": {},
   "outputs": [
    {
     "name": "stderr",
     "output_type": "stream",
     "text": [
      "100%|██████████| 10000/10000 [06:05<00:00, 27.39it/s]\n"
     ]
    },
    {
     "data": {
      "text/plain": [
       "368.8498"
      ]
     },
     "execution_count": 81,
     "metadata": {},
     "output_type": "execute_result"
    }
   ],
   "source": [
    "arl, rl = arl_moving_window(ar = 0.75, delta = 0, gamma = 1, run = 10000, mean_vector = mean_vector075, inv_cov_matrix = inv_cov_matrix075, cl = 11.832)\n",
    "arl"
   ]
  },
  {
   "cell_type": "code",
   "execution_count": 82,
   "metadata": {},
   "outputs": [
    {
     "name": "stderr",
     "output_type": "stream",
     "text": [
      "100%|██████████| 10000/10000 [06:05<00:00, 27.35it/s]\n"
     ]
    },
    {
     "data": {
      "text/plain": [
       "369.681"
      ]
     },
     "execution_count": 82,
     "metadata": {},
     "output_type": "execute_result"
    }
   ],
   "source": [
    "arl, rl = arl_moving_window(ar = 0.75, delta = 0, gamma = 1, run = 10000, mean_vector = mean_vector075, inv_cov_matrix = inv_cov_matrix075, cl = 11.8325)\n",
    "arl"
   ]
  },
  {
   "cell_type": "code",
   "execution_count": 83,
   "metadata": {},
   "outputs": [
    {
     "name": "stderr",
     "output_type": "stream",
     "text": [
      "100%|██████████| 10000/10000 [06:12<00:00, 26.82it/s]\n"
     ]
    },
    {
     "data": {
      "text/plain": [
       "376.8702"
      ]
     },
     "execution_count": 83,
     "metadata": {},
     "output_type": "execute_result"
    }
   ],
   "source": [
    "arl, rl = arl_moving_window(ar = 0.75, delta = 0, gamma = 1, run = 10000, mean_vector = mean_vector075, inv_cov_matrix = inv_cov_matrix075, cl = 11.8327)\n",
    "arl"
   ]
  },
  {
   "cell_type": "code",
   "execution_count": 84,
   "metadata": {},
   "outputs": [
    {
     "name": "stderr",
     "output_type": "stream",
     "text": [
      "100%|██████████| 10000/10000 [06:08<00:00, 27.14it/s]\n"
     ]
    },
    {
     "data": {
      "text/plain": [
       "372.5223"
      ]
     },
     "execution_count": 84,
     "metadata": {},
     "output_type": "execute_result"
    }
   ],
   "source": [
    "arl, rl = arl_moving_window(ar = 0.75, delta = 0, gamma = 1, run = 10000, mean_vector = mean_vector075, inv_cov_matrix = inv_cov_matrix075, cl = 11.8327)\n",
    "arl"
   ]
  },
  {
   "cell_type": "code",
   "execution_count": 85,
   "metadata": {},
   "outputs": [
    {
     "name": "stderr",
     "output_type": "stream",
     "text": [
      "100%|██████████| 10000/10000 [06:03<00:00, 27.51it/s]\n"
     ]
    },
    {
     "data": {
      "text/plain": [
       "368.8589"
      ]
     },
     "execution_count": 85,
     "metadata": {},
     "output_type": "execute_result"
    }
   ],
   "source": [
    "arl, rl = arl_moving_window(ar = 0.75, delta = 0, gamma = 1, run = 10000, mean_vector = mean_vector075, inv_cov_matrix = inv_cov_matrix075, cl = 11.8326)\n",
    "arl"
   ]
  },
  {
   "cell_type": "code",
   "execution_count": 86,
   "metadata": {},
   "outputs": [
    {
     "name": "stderr",
     "output_type": "stream",
     "text": [
      "100%|██████████| 10000/10000 [06:10<00:00, 26.99it/s]\n"
     ]
    },
    {
     "data": {
      "text/plain": [
       "374.5347"
      ]
     },
     "execution_count": 86,
     "metadata": {},
     "output_type": "execute_result"
    }
   ],
   "source": [
    "arl, rl = arl_moving_window(ar = 0.75, delta = 0, gamma = 1, run = 10000, mean_vector = mean_vector075, inv_cov_matrix = inv_cov_matrix075, cl = 11.8326)\n",
    "arl"
   ]
  },
  {
   "cell_type": "code",
   "execution_count": 87,
   "metadata": {},
   "outputs": [
    {
     "name": "stderr",
     "output_type": "stream",
     "text": [
      "100%|██████████| 10000/10000 [06:02<00:00, 27.62it/s]\n"
     ]
    },
    {
     "data": {
      "text/plain": [
       "365.6374"
      ]
     },
     "execution_count": 87,
     "metadata": {},
     "output_type": "execute_result"
    }
   ],
   "source": [
    "arl, rl = arl_moving_window(ar = 0.75, delta = 0, gamma = 1, run = 10000, mean_vector = mean_vector075, inv_cov_matrix = inv_cov_matrix075, cl = 11.8327)\n",
    "arl"
   ]
  },
  {
   "cell_type": "code",
   "execution_count": 88,
   "metadata": {},
   "outputs": [
    {
     "name": "stderr",
     "output_type": "stream",
     "text": [
      "100%|██████████| 10000/10000 [06:13<00:00, 26.74it/s]\n"
     ]
    },
    {
     "data": {
      "text/plain": [
       "379.2312"
      ]
     },
     "execution_count": 88,
     "metadata": {},
     "output_type": "execute_result"
    }
   ],
   "source": [
    "arl, rl = arl_moving_window(ar = 0.75, delta = 0, gamma = 1, run = 10000, mean_vector = mean_vector075, inv_cov_matrix = inv_cov_matrix075, cl = 11.8327)\n",
    "arl"
   ]
  },
  {
   "cell_type": "code",
   "execution_count": 89,
   "metadata": {},
   "outputs": [
    {
     "name": "stderr",
     "output_type": "stream",
     "text": [
      "100%|██████████| 10000/10000 [06:04<00:00, 27.46it/s]\n"
     ]
    },
    {
     "data": {
      "text/plain": [
       "366.8428"
      ]
     },
     "execution_count": 89,
     "metadata": {},
     "output_type": "execute_result"
    }
   ],
   "source": [
    "arl, rl = arl_moving_window(ar = 0.75, delta = 0, gamma = 1, run = 10000, mean_vector = mean_vector075, inv_cov_matrix = inv_cov_matrix075, cl = 11.8327)\n",
    "arl"
   ]
  },
  {
   "cell_type": "code",
   "execution_count": 90,
   "metadata": {},
   "outputs": [
    {
     "name": "stderr",
     "output_type": "stream",
     "text": [
      "100%|██████████| 10000/10000 [06:09<00:00, 27.07it/s]\n"
     ]
    },
    {
     "data": {
      "text/plain": [
       "372.3274"
      ]
     },
     "execution_count": 90,
     "metadata": {},
     "output_type": "execute_result"
    }
   ],
   "source": [
    "arl, rl = arl_moving_window(ar = 0.75, delta = 0, gamma = 1, run = 10000, mean_vector = mean_vector075, inv_cov_matrix = inv_cov_matrix075, cl = 11.8327)\n",
    "arl"
   ]
  },
  {
   "cell_type": "code",
   "execution_count": 91,
   "metadata": {},
   "outputs": [
    {
     "data": {
      "image/png": "[encoded data removed]",
      "text/plain": [
       "<Figure size 1000x600 with 1 Axes>"
      ]
     },
     "metadata": {},
     "output_type": "display_data"
    }
   ],
   "source": [
    "# rl에 대한 히스토그램 생성\n",
    "plt.figure(figsize=(10, 6))\n",
    "plt.hist(rl, bins=50, color='blue', edgecolor='black', alpha=0.7)\n",
    "plt.title('Histogram of Run Lengths (RL)')\n",
    "plt.xlabel('Run Length')\n",
    "plt.ylabel('Frequency')\n",
    "plt.grid(True)\n",
    "\n",
    "# ARL 값을 히스토그램 위에 표시\n",
    "plt.text(0.95, 0.95, f'ARL: {arl:.2f}', horizontalalignment='right', verticalalignment='top', transform=plt.gca().transAxes, fontsize=12, bbox=dict(facecolor='white', alpha=0.5))\n",
    "\n",
    "plt.show()"
   ]
  },
  {
   "cell_type": "code",
   "execution_count": 92,
   "metadata": {},
   "outputs": [
    {
     "data": {
      "image/png": "[encoded data removed]",
      "text/plain": [
       "<Figure size 1400x600 with 1 Axes>"
      ]
     },
     "metadata": {},
     "output_type": "display_data"
    }
   ],
   "source": [
    "# 잠재벡터 분포 확인\n",
    "import seaborn as sns\n",
    "\n",
    "plt.figure(figsize=(14, 6))\n",
    "# 박스플롯\n",
    "plt.subplot(1, 2, 1)\n",
    "plt.boxplot(rl, vert=True, patch_artist=True)\n",
    "plt.xlabel('ar = 0.25')\n",
    "plt.ylabel('Values')\n",
    "plt.title('Boxplot of ARL')\n",
    "plt.grid(True)"
   ]
  },
  {
   "cell_type": "markdown",
   "metadata": {},
   "source": [
    "##### ARL1"
   ]
  },
  {
   "cell_type": "code",
   "execution_count": 96,
   "metadata": {},
   "outputs": [
    {
     "name": "stderr",
     "output_type": "stream",
     "text": [
      "100%|██████████| 10000/10000 [00:31<00:00, 317.90it/s]\n",
      "100%|██████████| 10000/10000 [00:06<00:00, 1518.87it/s]\n",
      "100%|██████████| 10000/10000 [00:02<00:00, 3989.37it/s]\n",
      "100%|██████████| 10000/10000 [00:02<00:00, 4257.88it/s]\n",
      "100%|██████████| 10000/10000 [00:21<00:00, 462.34it/s]\n",
      "100%|██████████| 10000/10000 [00:07<00:00, 1341.58it/s]\n",
      "100%|██████████| 10000/10000 [00:02<00:00, 3365.14it/s]\n",
      "100%|██████████| 10000/10000 [00:02<00:00, 4021.56it/s]\n",
      "100%|██████████| 10000/10000 [01:24<00:00, 118.04it/s]\n",
      "100%|██████████| 10000/10000 [00:36<00:00, 271.14it/s]\n",
      "100%|██████████| 10000/10000 [00:15<00:00, 631.18it/s]"
     ]
    },
    {
     "name": "stdout",
     "output_type": "stream",
     "text": [
      "0.5: 31.3512, 1:6.3161,2:2.167,3:2.0019\n",
      "0.5:21.2623,1:7.1397,2:2.6265,3:2.0017\n",
      "1.5:84.8825,2:36.5963,3:15.4322\n"
     ]
    },
    {
     "name": "stderr",
     "output_type": "stream",
     "text": [
      "\n"
     ]
    }
   ],
   "source": [
    "arl1(ar = 0.75, run = 10000, mean_vector = mean_vector075, inv_cov_matrix = inv_cov_matrix075, cl = 11.8327)"
   ]
  },
  {
   "cell_type": "code",
   "execution_count": null,
   "metadata": {},
   "outputs": [],
   "source": []
  }
 ],
 "metadata": {
  "kernelspec": {
   "display_name": "myproject3119",
   "language": "python",
   "name": "python3"
  },
  "language_info": {
   "codemirror_mode": {
    "name": "ipython",
    "version": 3
   },
   "file_extension": ".py",
   "mimetype": "text/x-python",
   "name": "python",
   "nbconvert_exporter": "python",
   "pygments_lexer": "ipython3",
   "version": "3.11.9"
  }
 },
 "nbformat": 4,
 "nbformat_minor": 2
}
